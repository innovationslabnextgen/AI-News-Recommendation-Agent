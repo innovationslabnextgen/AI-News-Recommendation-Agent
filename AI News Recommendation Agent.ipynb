{
 "cells": [
  {
   "cell_type": "code",
   "execution_count": 526,
   "id": "1479ae2c",
   "metadata": {
    "scrolled": true
   },
   "outputs": [
    {
     "name": "stdout",
     "output_type": "stream",
     "text": [
      "Requirement already satisfied: newsapi-python in c:\\users\\js774\\anaconda3\\lib\\site-packages (0.2.7)\n",
      "Requirement already satisfied: requests<3.0.0 in c:\\users\\js774\\anaconda3\\lib\\site-packages (from newsapi-python) (2.31.0)\n",
      "Requirement already satisfied: charset-normalizer<4,>=2 in c:\\users\\js774\\anaconda3\\lib\\site-packages (from requests<3.0.0->newsapi-python) (2.0.4)\n",
      "Requirement already satisfied: idna<4,>=2.5 in c:\\users\\js774\\anaconda3\\lib\\site-packages (from requests<3.0.0->newsapi-python) (3.4)\n",
      "Requirement already satisfied: urllib3<3,>=1.21.1 in c:\\users\\js774\\anaconda3\\lib\\site-packages (from requests<3.0.0->newsapi-python) (1.26.16)\n",
      "Requirement already satisfied: certifi>=2017.4.17 in c:\\users\\js774\\anaconda3\\lib\\site-packages (from requests<3.0.0->newsapi-python) (2023.11.17)\n",
      "Note: you may need to restart the kernel to use updated packages.\n"
     ]
    }
   ],
   "source": [
    "pip install newsapi-python"
   ]
  },
  {
   "cell_type": "code",
   "execution_count": 527,
   "id": "7a2bb2f1",
   "metadata": {},
   "outputs": [
    {
     "name": "stdout",
     "output_type": "stream",
     "text": [
      "Filter by topic, what type of news would you like:\n"
     ]
    }
   ],
   "source": [
    "topic = input(\"Filter by topic, what type of news would you like:\")"
   ]
  },
  {
   "cell_type": "code",
   "execution_count": 528,
   "id": "4af24f44",
   "metadata": {},
   "outputs": [],
   "source": [
    "from newsapi import NewsApiClient\n",
    "\n",
    "# Init\n",
    "newsapi = NewsApiClient(api_key='a706251e62f54b20a5c71f8618d12a2a')\n",
    "\n",
    "# /v2/top-headlines\n",
    "top_headlines = newsapi.get_top_headlines(q=topic,\n",
    "                                          category='technology',\n",
    "                                          language='en',\n",
    "                                          country='us',\n",
    "                                          page=1)\n",
    "#sources='bbc-news,the-verge',"
   ]
  },
  {
   "cell_type": "code",
   "execution_count": 529,
   "id": "f3d22b4f",
   "metadata": {},
   "outputs": [],
   "source": [
    "# List of URLs to filter out\n",
    "urls_to_exclude = ['youtube.com', 'androidpolice.com']\n",
    "\n",
    "# Filter out articles based on the list of URLs\n",
    "filtered_top_headlines = {\n",
    "    'articles': [article for article in top_headlines['articles'] if all(exclude_url not in article['url'] for exclude_url in urls_to_exclude)]\n",
    "}"
   ]
  },
  {
   "cell_type": "code",
   "execution_count": 530,
   "id": "83a6472d",
   "metadata": {
    "scrolled": true
   },
   "outputs": [
    {
     "data": {
      "text/plain": [
       "{'articles': [{'source': {'id': 'the-washington-post',\n",
       "    'name': 'The Washington Post'},\n",
       "   'author': 'Shira Ovide',\n",
       "   'title': 'Why wired headphones are better than wireless - The Washington Post',\n",
       "   'description': 'Plug-in headphones are simple, typically cheaper and don’t need charging. And wired headphones may be on the cusp of a revival.',\n",
       "   'url': 'https://www.washingtonpost.com/technology/2024/01/23/wired-headphones-vs-wireless/',\n",
       "   'urlToImage': 'https://www.washingtonpost.com/wp-apps/imrs.php?src=https://arc-anglerfish-washpost-prod-washpost.s3.amazonaws.com/public/6D7TAIVAKFHVFIRJPEL5IMYDAQ.jpg&w=1440',\n",
       "   'publishedAt': '2024-01-23T20:30:00Z',\n",
       "   'content': 'Comment on this story\\r\\nComment\\r\\nAdd to your saved stories\\r\\nSave\\r\\nThis article is a preview of The Tech Friend newsletter. Sign up here to get it in your inbox every Tuesday and Friday.\\r\\nHey, you, wit… [+6847 chars]'},\n",
       "  {'source': {'id': 'ign', 'name': 'IGN'},\n",
       "   'author': 'Robert Anderson',\n",
       "   'title': 'The Last of Us Part 2 Has Dropped to Just $20 at Walmart, For Now - IGN',\n",
       "   'description': 'The Last of Us Part 2 is down to just $20 at Walmart for a limited time. You can upgrade to Part 2 Remastered for $10 when inserting the disc into your PS5, saving you $20 vs. buying the re-release outright.',\n",
       "   'url': 'https://www.ign.com/articles/the-last-of-us-part-2-best-deal-walmart-limited-time-2024-new',\n",
       "   'urlToImage': 'https://assets-prd.ignimgs.com/2024/01/18/tlou2thumb-1705601725271.png?width=1280',\n",
       "   'publishedAt': '2024-01-23T19:42:37Z',\n",
       "   'content': \"Here's the scenerio: you don't own a copy of The Last of Us Part 2, but you fancy checking it out now it's gotten a few new improvements with its 'Remastered' re-release on the PS5 (such as DualSense… [+2722 chars]\"},\n",
       "  {'source': {'id': 'the-verge', 'name': 'The Verge'},\n",
       "   'author': 'Tom Warren',\n",
       "   'title': 'Microsoft Teams is making it easier to control your webcam and audio during meetings - The Verge',\n",
       "   'description': 'Microsoft is updating its Teams client to improve how you select your webcam and audio sources. A new preview means you no longer have to head into the settings menu.',\n",
       "   'url': 'https://www.theverge.com/2024/1/23/24048233/microsoft-teams-webcam-audio-adjustment-feature-meetings',\n",
       "   'urlToImage': 'https://cdn.vox-cdn.com/thumbor/iZD2V7EHCEQWoIjJJtWpqTqye2g=/0x0:2880x1620/1200x628/filters:focal(1440x810:1441x811)/cdn.vox-cdn.com/uploads/chorus_asset/file/25244248/Control_audio_and_video_settings_in_Teams_meetings_1.png',\n",
       "   'publishedAt': '2024-01-23T19:37:46Z',\n",
       "   'content': 'Microsoft Teams is making it easier to control your webcam and audio during meetings\\r\\nMicrosoft Teams is making it easier to control your webcam and audio during meetings\\r\\n / You wont have to head in… [+1546 chars]'},\n",
       "  {'source': {'id': None, 'name': '9to5google.com'},\n",
       "   'author': 'Abner Li',\n",
       "   'title': 'First Pixel 9 Pro renders leak: Flat edge, camera bar redesign, more - 9to5Google',\n",
       "   'description': 'The first Pixel 9 Pro leak is here, with renders showing a pretty stark design departure from the phone we have today...',\n",
       "   'url': 'https://9to5google.com/2024/01/23/pixel-9-pro-leak-render/',\n",
       "   'urlToImage': 'https://i0.wp.com/9to5google.com/wp-content/uploads/sites/4/2024/01/pixel-9-pro-render-leak-1-1.jpg?resize=1200%2C628&quality=82&strip=all&ssl=1',\n",
       "   'publishedAt': '2024-01-23T19:10:00Z',\n",
       "   'content': 'The first Pixel 9 Pro leak is here, with renders showing a pretty stark design departure from the Google phone we have today.\\xa0\\r\\nAccording to @OnLeaks and MySmartPrice, the Pixel 9 Pro features flat e… [+1831 chars]'},\n",
       "  {'source': {'id': 'engadget', 'name': 'Engadget'},\n",
       "   'author': 'Lawrence Bonk',\n",
       "   'title': 'Apple releases iOS 17.3 with new Stolen Device Protection for your iPhone - Engadget',\n",
       "   'description': 'Apple has released iOS 17.3 and iPadOS 17.3. These are modest refreshes, with the highlight being the Stolen Device Protection tool that protects user data...',\n",
       "   'url': 'https://www.engadget.com/apple-releases-ios-173-which-introduces-the-new-stolen-device-protection-tool-184654922.html',\n",
       "   'urlToImage': 'https://s.yimg.com/ny/api/res/1.2/HuNwYSeJxYA3n3lTGJUilA--/YXBwaWQ9aGlnaGxhbmRlcjt3PTEyMDA7aD03MTk-/https://s.yimg.com/os/creatr-uploaded-images/2024-01/b9bd6560-b955-11ee-b7de-fedc8e3005f5',\n",
       "   'publishedAt': '2024-01-23T18:54:46Z',\n",
       "   'content': 'Today is a big day for Apple system updates: the company released iOS 17.3 and iPadOS 17.3, alongside more modest watchOS 10.3 and macOS Sonoma 14.3 updates. This iOS update is a modest refresh, so d… [+2094 chars]'},\n",
       "  {'source': {'id': 'ign', 'name': 'IGN'},\n",
       "   'author': 'Taylor Lyles',\n",
       "   'title': 'Solid Snake Now Available in Fortnite With v28.10 Update - IGN',\n",
       "   'description': 'Solid Snake from the Metal Gear franchise is now available in Fortnite as part of update v28.10.',\n",
       "   'url': 'https://www.ign.com/articles/solid-snake-now-available-in-fortnite-with-v2810-update',\n",
       "   'urlToImage': 'https://assets-prd.ignimgs.com/2024/01/23/fortnite-solid-snake-outfit-1920x1080-92930be93f6a-1706033620435.jpg?width=1280',\n",
       "   'publishedAt': '2024-01-23T18:15:12Z',\n",
       "   'content': \"Solid Snake from the Metal Gear franchise is now available in Fortnite.\\r\\nFortnite's V28.10 update introduces the iconic character into Epic's widely popular free-to-play battle royale game. Players w… [+2437 chars]\"},\n",
       "  {'source': {'id': None, 'name': 'Jalopnik'},\n",
       "   'author': 'Lawrence Hodge',\n",
       "   'title': \"Sammy Hagar's LaFerrari Auction Is On Hold Because It Needs A New Battery - Jalopnik\",\n",
       "   'description': 'The sale of Red Rocker’s multi-million dollar hybrid supercar is on hold after a recent inspection found the battery needs to be replaced.',\n",
       "   'url': 'https://jalopnik.com/sammy-hagar-s-laferrari-auction-is-on-hold-because-it-n-1851189331',\n",
       "   'urlToImage': 'https://i.kinja-img.com/image/upload/c_fill,h_675,pg_1,q_80,w_1200/79265967986ffb8ecb7316ea8c16bd26.jpg',\n",
       "   'publishedAt': '2024-01-23T18:05:00Z',\n",
       "   'content': 'Sammy Hagar has an extensive car collection. From a Jaguar XKE to multiple Ferraris, its safe to say that Hagar is a car enthusiast. One of the hardest things an enthusiast can do, though, is part wa… [+1795 chars]'},\n",
       "  {'source': {'id': 'engadget', 'name': 'Engadget'},\n",
       "   'author': 'Will Shanklin',\n",
       "   'title': 'Nintendo honors Princess Peach with a pair of pastel pink Joy-Cons - Engadget',\n",
       "   'description': 'Nintendo is honoring Princess Peach with a set of appropriately colored Joy-Cons. On Tuesday, the company said a set of pastel pink Joy-Con controllers will ...',\n",
       "   'url': 'https://www.engadget.com/nintendo-honors-princess-peach-with-a-pair-of-pastel-pink-joy-cons-174854757.html',\n",
       "   'urlToImage': 'https://s.yimg.com/ny/api/res/1.2/DCMrTLyYvJy3csq7SzUJow--/YXBwaWQ9aGlnaGxhbmRlcjt3PTEyMDA7aD03MjA-/https://s.yimg.com/os/creatr-uploaded-images/2024-01/a0057040-ba13-11ee-b7fb-58d3ccc3874b',\n",
       "   'publishedAt': '2024-01-23T17:48:54Z',\n",
       "   'content': 'Nintendo is honoring Princess Peach with a set of appropriately colored Joy-Cons. On Tuesday, the company posted on X (Twitter) that a set of pastel pink Joy-Con controllers will launch alongside Pri… [+1877 chars]'},\n",
       "  {'source': {'id': 'techcrunch', 'name': 'TechCrunch'},\n",
       "   'author': 'Sarah Perez',\n",
       "   'title': 'Google Chrome gains AI features including a writing helper, theme creator, and tab organizer - TechCrunch',\n",
       "   'description': \"Google's Chrome web browser is getting an infusion of AI technology in the latest release. The company announced today it's soon adding a trio of new\",\n",
       "   'url': 'https://techcrunch.com/2024/01/23/google-chrome-gains-ai-features-including-a-writing-helper-theme-creator-and-tab-organizer/',\n",
       "   'urlToImage': 'https://techcrunch.com/wp-content/uploads/2019/07/chrome-logo.png?resize=1200,674',\n",
       "   'publishedAt': '2024-01-23T17:01:46Z',\n",
       "   'content': 'Google’s Chrome web browser is getting an infusion of AI technology in the latest release. The company announced today it’s soon adding a trio of new AI-powered features to Chrome for Mac and Windows… [+3814 chars]'},\n",
       "  {'source': {'id': None, 'name': 'Kotaku'},\n",
       "   'author': 'John Walker',\n",
       "   'title': 'Avowed Footage Reveals Slick Movement And First Companions - Kotaku',\n",
       "   'description': 'Chatting with their Microsoft overlords, Obsidian developers go on a deeper dive',\n",
       "   'url': 'https://kotaku.com/avowed-rpg-obsidian-microsoft-companions-1851188715',\n",
       "   'urlToImage': 'https://i.kinja-img.com/image/upload/c_fill,h_675,pg_1,q_80,w_1200/9724227e27531ce5155d852ce8d891d5.jpg',\n",
       "   'publishedAt': '2024-01-23T16:04:38Z',\n",
       "   'content': 'More details about Obsidians next first-person RPG, Avowed, have been revealed. A recent episode of the so-called Official Xbox Podcast (itsnot a podcast) has a bunch more footage from the game than … [+3981 chars]'},\n",
       "  {'source': {'id': None, 'name': 'Forbes'},\n",
       "   'author': 'Paul Tassi',\n",
       "   'title': '‘Suicide Squad: Kill The Justice League’ Reveals Playable Joker. No, Not That Joker, A Different Joker - Forbes',\n",
       "   'description': 'Suicide Squad: Kill the Justice League will let you play as the Joker after launch, but a new version of the character, not from Arkham.',\n",
       "   'url': 'https://www.forbes.com/sites/paultassi/2024/01/23/suicide-squad-kill-the-justice-league-reveals-playable-joker-no-not-that-joker-a-different-joker/',\n",
       "   'urlToImage': 'https://imageio.forbes.com/specials-images/imageserve/65afd8128aa1647475d47024/0x0.jpg?format=jpg&height=900&width=1600&fit=bounds',\n",
       "   'publishedAt': '2024-01-23T15:17:23Z',\n",
       "   'content': 'Joker\\r\\nRocksteady\\r\\nRocksteady had what appears to be the last Suicide Squad: Kill the Justice League deep dive before launch next week, one focused on what is happening in the live service portion of… [+2318 chars]'},\n",
       "  {'source': {'id': None, 'name': 'Dexerto'},\n",
       "   'author': 'Raissa Jerez',\n",
       "   'title': 'All Syndicate Towers locations in Palworld - Dexerto',\n",
       "   'description': 'Palworld has 5 Syndicate Towers scattered around, each one with a Boss battle for you to face, so here are all their locations in the game.',\n",
       "   'url': 'https://www.dexerto.com/palworld/all-syndicate-towers-locations-in-palworld-2492506/',\n",
       "   'urlToImage': 'https://editors.dexerto.com/wp-content/uploads/2024/01/23/palworld-syndicate-towers-locations.jpg',\n",
       "   'publishedAt': '2024-01-23T15:07:56Z',\n",
       "   'content': 'Palworld has plenty of challenges for you to face during your time in the Palpagos Island. However, the hardest of them all is beating the Bosses and their Pals waiting for you in the 5 Syndicate Tow… [+4188 chars]'},\n",
       "  {'source': {'id': None, 'name': '9to5Mac'},\n",
       "   'author': 'Zac Hall',\n",
       "   'title': 'Apple Vision Pro now available in augmented reality form, in-store stock details later today - 9to5Mac',\n",
       "   'description': 'Can’t wait to get your hands on Apple Vision Pro? You can now get closer than ever while you count...',\n",
       "   'url': 'https://9to5mac.com/2024/01/23/apple-vision-pro-now-available-in-augmented-reality-form-in-store-stock-details-later-today/',\n",
       "   'urlToImage': 'https://i0.wp.com/9to5mac.com/wp-content/uploads/sites/6/2024/01/Apple-Vision-Pro-AR.webp?resize=1200%2C628&quality=82&strip=all&ssl=1',\n",
       "   'publishedAt': '2024-01-23T15:04:00Z',\n",
       "   'content': 'Can’t wait to get your hands on Apple Vision Pro? You can now get closer than ever while you count the days ’till launch with Apple’s new AR hardware preview. Apple is also saying more about launch d… [+1184 chars]'},\n",
       "  {'source': {'id': None, 'name': 'Phoronix'},\n",
       "   'author': None,\n",
       "   'title': 'Framework Laptop 16 Delivers Great Linux Support & Performance, Excellent Customizability Review - Phoronix',\n",
       "   'description': 'The review embargo has now expired on the Framework Laptop 16, the latest innovative and upgradeable laptop from this company that has made quite a name for itself with modular and user-upgradeable laptop designs for both AMD and Intel.',\n",
       "   'url': 'https://www.phoronix.com/review/framework-laptop-16',\n",
       "   'urlToImage': 'https://www.phoronix.net/image.php?id=framework-laptop-16&image=framework_16_1',\n",
       "   'publishedAt': '2024-01-23T15:00:00Z',\n",
       "   'content': 'Show Your Support: This site is primarily supported by advertisements. Ads are what have allowed this site to be maintained on a daily basis for the past 19+ years. We do our best to ensure only clea… [+3834 chars]'},\n",
       "  {'source': {'id': 'the-verge', 'name': 'The Verge'},\n",
       "   'author': 'Jon Porter',\n",
       "   'title': 'OnePlus prices latest flagship phone for the US alongside more affordable 12R - The Verge',\n",
       "   'description': 'OnePlus has announced pricing and a release date for the OnePlus 12 in the West. It’s also detailed the OnePlus 12R and OnePlus Buds 3, its new true wireless earbuds.',\n",
       "   'url': 'https://www.theverge.com/2024/1/23/24047757/oneplus-12-12r-buds-3-price-release-date-specs-features',\n",
       "   'urlToImage': 'https://cdn.vox-cdn.com/thumbor/Q8o26yzGLwH8xeDFJ0SHTVyBW5I=/0x0:1620x1080/1200x628/filters:focal(810x540:811x541)/cdn.vox-cdn.com/uploads/chorus_asset/file/25243409/OP12_green_solo_16x9__2_.jpg',\n",
       "   'publishedAt': '2024-01-23T15:00:00Z',\n",
       "   'content': 'OnePlus prices latest flagship phone for the US alongside more affordable 12R\\r\\nOnePlus prices latest flagship phone for the US alongside more affordable 12R\\r\\n / The OnePlus 12 and 12R will be joined … [+4771 chars]'},\n",
       "  {'source': {'id': None, 'name': 'MacRumors'},\n",
       "   'author': 'Hartley Charlton',\n",
       "   'title': 'Samsung Racing to Beat Apple to Non-Invasive Blood Glucose Monitoring Technology - MacRumors',\n",
       "   'description': 'Samsung is striving to beat Apple to launch non-invasive blood glucose monitoring technology, as well as continuous blood pressure tracking features,...',\n",
       "   'url': 'https://www.macrumors.com/2024/01/23/samsung-racing-to-beat-apple/',\n",
       "   'urlToImage': 'https://images.macrumors.com/t/5-e1GtkuC8DXTIkajY7IO5AoqbI=/1600x/article-new/2023/07/galaxy-watch6-models.jpg',\n",
       "   'publishedAt': '2024-01-23T14:34:31Z',\n",
       "   'content': 'Samsung is striving to beat Apple to launch non-invasive blood glucose monitoring technology, as well as continuous blood pressure tracking features, Bloomberg reports.\\r\\nThe efforts are part of the c… [+1938 chars]'},\n",
       "  {'source': {'id': 'ign', 'name': 'IGN'},\n",
       "   'author': 'Wesley Yin-Poole',\n",
       "   'title': 'Palworld Overtakes Counter-Strike to Become the Second Most-Played Game Ever on Steam - IGN',\n",
       "   'description': 'Palworld’s astonishing launch success has grown further: it’s now the second most-popular game ever on Steam.',\n",
       "   'url': 'https://www.ign.com/articles/palworld-overtakes-counter-strike-to-become-the-second-most-played-game-ever-on-steam',\n",
       "   'urlToImage': 'https://assets-prd.ignimgs.com/2024/01/09/palworldearlyaccessreleasedatetrailer-ign-blogroll-1704822459672.jpg?width=1280',\n",
       "   'publishedAt': '2024-01-23T14:16:38Z',\n",
       "   'content': 'Palworlds astonishing launch success has grown further: its now the second most-popular game ever on Steam.\\r\\nPalworld posted an incredible 1,853,216 concurrent players on Steam today, January 23, a f… [+1518 chars]'}]}"
      ]
     },
     "execution_count": 530,
     "metadata": {},
     "output_type": "execute_result"
    }
   ],
   "source": [
    "filtered_top_headlines"
   ]
  },
  {
   "cell_type": "code",
   "execution_count": 531,
   "id": "f7b6099c",
   "metadata": {},
   "outputs": [
    {
     "data": {
      "text/plain": [
       "{'status': 'ok',\n",
       " 'totalResults': 67,\n",
       " 'articles': [{'source': {'id': 'the-washington-post',\n",
       "    'name': 'The Washington Post'},\n",
       "   'author': 'Shira Ovide',\n",
       "   'title': 'Why wired headphones are better than wireless - The Washington Post',\n",
       "   'description': 'Plug-in headphones are simple, typically cheaper and don’t need charging. And wired headphones may be on the cusp of a revival.',\n",
       "   'url': 'https://www.washingtonpost.com/technology/2024/01/23/wired-headphones-vs-wireless/',\n",
       "   'urlToImage': 'https://www.washingtonpost.com/wp-apps/imrs.php?src=https://arc-anglerfish-washpost-prod-washpost.s3.amazonaws.com/public/6D7TAIVAKFHVFIRJPEL5IMYDAQ.jpg&w=1440',\n",
       "   'publishedAt': '2024-01-23T20:30:00Z',\n",
       "   'content': 'Comment on this story\\r\\nComment\\r\\nAdd to your saved stories\\r\\nSave\\r\\nThis article is a preview of The Tech Friend newsletter. Sign up here to get it in your inbox every Tuesday and Friday.\\r\\nHey, you, wit… [+6847 chars]'},\n",
       "  {'source': {'id': 'ign', 'name': 'IGN'},\n",
       "   'author': 'Robert Anderson',\n",
       "   'title': 'The Last of Us Part 2 Has Dropped to Just $20 at Walmart, For Now - IGN',\n",
       "   'description': 'The Last of Us Part 2 is down to just $20 at Walmart for a limited time. You can upgrade to Part 2 Remastered for $10 when inserting the disc into your PS5, saving you $20 vs. buying the re-release outright.',\n",
       "   'url': 'https://www.ign.com/articles/the-last-of-us-part-2-best-deal-walmart-limited-time-2024-new',\n",
       "   'urlToImage': 'https://assets-prd.ignimgs.com/2024/01/18/tlou2thumb-1705601725271.png?width=1280',\n",
       "   'publishedAt': '2024-01-23T19:42:37Z',\n",
       "   'content': \"Here's the scenerio: you don't own a copy of The Last of Us Part 2, but you fancy checking it out now it's gotten a few new improvements with its 'Remastered' re-release on the PS5 (such as DualSense… [+2722 chars]\"},\n",
       "  {'source': {'id': 'the-verge', 'name': 'The Verge'},\n",
       "   'author': 'Tom Warren',\n",
       "   'title': 'Microsoft Teams is making it easier to control your webcam and audio during meetings - The Verge',\n",
       "   'description': 'Microsoft is updating its Teams client to improve how you select your webcam and audio sources. A new preview means you no longer have to head into the settings menu.',\n",
       "   'url': 'https://www.theverge.com/2024/1/23/24048233/microsoft-teams-webcam-audio-adjustment-feature-meetings',\n",
       "   'urlToImage': 'https://cdn.vox-cdn.com/thumbor/iZD2V7EHCEQWoIjJJtWpqTqye2g=/0x0:2880x1620/1200x628/filters:focal(1440x810:1441x811)/cdn.vox-cdn.com/uploads/chorus_asset/file/25244248/Control_audio_and_video_settings_in_Teams_meetings_1.png',\n",
       "   'publishedAt': '2024-01-23T19:37:46Z',\n",
       "   'content': 'Microsoft Teams is making it easier to control your webcam and audio during meetings\\r\\nMicrosoft Teams is making it easier to control your webcam and audio during meetings\\r\\n / You wont have to head in… [+1546 chars]'},\n",
       "  {'source': {'id': None, 'name': 'YouTube'},\n",
       "   'author': None,\n",
       "   'title': 'Palworld: How to Level Up Fast - IGN',\n",
       "   'description': 'You’ll earn levels quickly in Palworld when you’re just starting out, but after you’ve got a dozen or so levels under your belt, the pace starts to slow down...',\n",
       "   'url': 'https://www.youtube.com/watch?v=V5412DC6llA',\n",
       "   'urlToImage': 'https://i.ytimg.com/vi/V5412DC6llA/maxresdefault.jpg',\n",
       "   'publishedAt': '2024-01-23T19:30:02Z',\n",
       "   'content': None},\n",
       "  {'source': {'id': None, 'name': '9to5google.com'},\n",
       "   'author': 'Abner Li',\n",
       "   'title': 'First Pixel 9 Pro renders leak: Flat edge, camera bar redesign, more - 9to5Google',\n",
       "   'description': 'The first Pixel 9 Pro leak is here, with renders showing a pretty stark design departure from the phone we have today...',\n",
       "   'url': 'https://9to5google.com/2024/01/23/pixel-9-pro-leak-render/',\n",
       "   'urlToImage': 'https://i0.wp.com/9to5google.com/wp-content/uploads/sites/4/2024/01/pixel-9-pro-render-leak-1-1.jpg?resize=1200%2C628&quality=82&strip=all&ssl=1',\n",
       "   'publishedAt': '2024-01-23T19:10:00Z',\n",
       "   'content': 'The first Pixel 9 Pro leak is here, with renders showing a pretty stark design departure from the Google phone we have today.\\xa0\\r\\nAccording to @OnLeaks and MySmartPrice, the Pixel 9 Pro features flat e… [+1831 chars]'},\n",
       "  {'source': {'id': 'engadget', 'name': 'Engadget'},\n",
       "   'author': 'Lawrence Bonk',\n",
       "   'title': 'Apple releases iOS 17.3 with new Stolen Device Protection for your iPhone - Engadget',\n",
       "   'description': 'Apple has released iOS 17.3 and iPadOS 17.3. These are modest refreshes, with the highlight being the Stolen Device Protection tool that protects user data...',\n",
       "   'url': 'https://www.engadget.com/apple-releases-ios-173-which-introduces-the-new-stolen-device-protection-tool-184654922.html',\n",
       "   'urlToImage': 'https://s.yimg.com/ny/api/res/1.2/HuNwYSeJxYA3n3lTGJUilA--/YXBwaWQ9aGlnaGxhbmRlcjt3PTEyMDA7aD03MTk-/https://s.yimg.com/os/creatr-uploaded-images/2024-01/b9bd6560-b955-11ee-b7de-fedc8e3005f5',\n",
       "   'publishedAt': '2024-01-23T18:54:46Z',\n",
       "   'content': 'Today is a big day for Apple system updates: the company released iOS 17.3 and iPadOS 17.3, alongside more modest watchOS 10.3 and macOS Sonoma 14.3 updates. This iOS update is a modest refresh, so d… [+2094 chars]'},\n",
       "  {'source': {'id': 'ign', 'name': 'IGN'},\n",
       "   'author': 'Taylor Lyles',\n",
       "   'title': 'Solid Snake Now Available in Fortnite With v28.10 Update - IGN',\n",
       "   'description': 'Solid Snake from the Metal Gear franchise is now available in Fortnite as part of update v28.10.',\n",
       "   'url': 'https://www.ign.com/articles/solid-snake-now-available-in-fortnite-with-v2810-update',\n",
       "   'urlToImage': 'https://assets-prd.ignimgs.com/2024/01/23/fortnite-solid-snake-outfit-1920x1080-92930be93f6a-1706033620435.jpg?width=1280',\n",
       "   'publishedAt': '2024-01-23T18:15:12Z',\n",
       "   'content': \"Solid Snake from the Metal Gear franchise is now available in Fortnite.\\r\\nFortnite's V28.10 update introduces the iconic character into Epic's widely popular free-to-play battle royale game. Players w… [+2437 chars]\"},\n",
       "  {'source': {'id': None, 'name': 'Jalopnik'},\n",
       "   'author': 'Lawrence Hodge',\n",
       "   'title': \"Sammy Hagar's LaFerrari Auction Is On Hold Because It Needs A New Battery - Jalopnik\",\n",
       "   'description': 'The sale of Red Rocker’s multi-million dollar hybrid supercar is on hold after a recent inspection found the battery needs to be replaced.',\n",
       "   'url': 'https://jalopnik.com/sammy-hagar-s-laferrari-auction-is-on-hold-because-it-n-1851189331',\n",
       "   'urlToImage': 'https://i.kinja-img.com/image/upload/c_fill,h_675,pg_1,q_80,w_1200/79265967986ffb8ecb7316ea8c16bd26.jpg',\n",
       "   'publishedAt': '2024-01-23T18:05:00Z',\n",
       "   'content': 'Sammy Hagar has an extensive car collection. From a Jaguar XKE to multiple Ferraris, its safe to say that Hagar is a car enthusiast. One of the hardest things an enthusiast can do, though, is part wa… [+1795 chars]'},\n",
       "  {'source': {'id': 'engadget', 'name': 'Engadget'},\n",
       "   'author': 'Will Shanklin',\n",
       "   'title': 'Nintendo honors Princess Peach with a pair of pastel pink Joy-Cons - Engadget',\n",
       "   'description': 'Nintendo is honoring Princess Peach with a set of appropriately colored Joy-Cons. On Tuesday, the company said a set of pastel pink Joy-Con controllers will ...',\n",
       "   'url': 'https://www.engadget.com/nintendo-honors-princess-peach-with-a-pair-of-pastel-pink-joy-cons-174854757.html',\n",
       "   'urlToImage': 'https://s.yimg.com/ny/api/res/1.2/DCMrTLyYvJy3csq7SzUJow--/YXBwaWQ9aGlnaGxhbmRlcjt3PTEyMDA7aD03MjA-/https://s.yimg.com/os/creatr-uploaded-images/2024-01/a0057040-ba13-11ee-b7fb-58d3ccc3874b',\n",
       "   'publishedAt': '2024-01-23T17:48:54Z',\n",
       "   'content': 'Nintendo is honoring Princess Peach with a set of appropriately colored Joy-Cons. On Tuesday, the company posted on X (Twitter) that a set of pastel pink Joy-Con controllers will launch alongside Pri… [+1877 chars]'},\n",
       "  {'source': {'id': 'techcrunch', 'name': 'TechCrunch'},\n",
       "   'author': 'Sarah Perez',\n",
       "   'title': 'Google Chrome gains AI features including a writing helper, theme creator, and tab organizer - TechCrunch',\n",
       "   'description': \"Google's Chrome web browser is getting an infusion of AI technology in the latest release. The company announced today it's soon adding a trio of new\",\n",
       "   'url': 'https://techcrunch.com/2024/01/23/google-chrome-gains-ai-features-including-a-writing-helper-theme-creator-and-tab-organizer/',\n",
       "   'urlToImage': 'https://techcrunch.com/wp-content/uploads/2019/07/chrome-logo.png?resize=1200,674',\n",
       "   'publishedAt': '2024-01-23T17:01:46Z',\n",
       "   'content': 'Google’s Chrome web browser is getting an infusion of AI technology in the latest release. The company announced today it’s soon adding a trio of new AI-powered features to Chrome for Mac and Windows… [+3814 chars]'},\n",
       "  {'source': {'id': None, 'name': 'Kotaku'},\n",
       "   'author': 'John Walker',\n",
       "   'title': 'Avowed Footage Reveals Slick Movement And First Companions - Kotaku',\n",
       "   'description': 'Chatting with their Microsoft overlords, Obsidian developers go on a deeper dive',\n",
       "   'url': 'https://kotaku.com/avowed-rpg-obsidian-microsoft-companions-1851188715',\n",
       "   'urlToImage': 'https://i.kinja-img.com/image/upload/c_fill,h_675,pg_1,q_80,w_1200/9724227e27531ce5155d852ce8d891d5.jpg',\n",
       "   'publishedAt': '2024-01-23T16:04:38Z',\n",
       "   'content': 'More details about Obsidians next first-person RPG, Avowed, have been revealed. A recent episode of the so-called Official Xbox Podcast (itsnot a podcast) has a bunch more footage from the game than … [+3981 chars]'},\n",
       "  {'source': {'id': None, 'name': 'YouTube'},\n",
       "   'author': None,\n",
       "   'title': 'Freedom Planet 2 – Release Date Trailer – Nintendo Switch - Nintendo of America',\n",
       "   'description': 'Freedom Planet 2 speeds onto Nintendo Switch on April 4th! Return to the vibrant world of Avalice to battle an ancient threat in the long-awaited sequel to F...',\n",
       "   'url': 'https://www.youtube.com/watch?v=TxsgtHPsVrA',\n",
       "   'urlToImage': 'https://i.ytimg.com/vi/TxsgtHPsVrA/maxresdefault.jpg',\n",
       "   'publishedAt': '2024-01-23T16:00:27Z',\n",
       "   'content': None},\n",
       "  {'source': {'id': None, 'name': 'YouTube'},\n",
       "   'author': None,\n",
       "   'title': 'AFK Journey - Exclusive Full Presentation Overview Trailer - IGN',\n",
       "   'description': 'Get a deep dive into the setting, art style, characters and their combat styles, gameplay, and various locations of AFK Journey, an upcoming free-to-play fan...',\n",
       "   'url': 'https://www.youtube.com/watch?v=Jl8_lCQ1rmA',\n",
       "   'urlToImage': 'https://i.ytimg.com/vi/Jl8_lCQ1rmA/maxresdefault.jpg',\n",
       "   'publishedAt': '2024-01-23T15:17:55Z',\n",
       "   'content': None},\n",
       "  {'source': {'id': None, 'name': 'Forbes'},\n",
       "   'author': 'Paul Tassi',\n",
       "   'title': '‘Suicide Squad: Kill The Justice League’ Reveals Playable Joker. No, Not That Joker, A Different Joker - Forbes',\n",
       "   'description': 'Suicide Squad: Kill the Justice League will let you play as the Joker after launch, but a new version of the character, not from Arkham.',\n",
       "   'url': 'https://www.forbes.com/sites/paultassi/2024/01/23/suicide-squad-kill-the-justice-league-reveals-playable-joker-no-not-that-joker-a-different-joker/',\n",
       "   'urlToImage': 'https://imageio.forbes.com/specials-images/imageserve/65afd8128aa1647475d47024/0x0.jpg?format=jpg&height=900&width=1600&fit=bounds',\n",
       "   'publishedAt': '2024-01-23T15:17:23Z',\n",
       "   'content': 'Joker\\r\\nRocksteady\\r\\nRocksteady had what appears to be the last Suicide Squad: Kill the Justice League deep dive before launch next week, one focused on what is happening in the live service portion of… [+2318 chars]'},\n",
       "  {'source': {'id': None, 'name': 'Dexerto'},\n",
       "   'author': 'Raissa Jerez',\n",
       "   'title': 'All Syndicate Towers locations in Palworld - Dexerto',\n",
       "   'description': 'Palworld has 5 Syndicate Towers scattered around, each one with a Boss battle for you to face, so here are all their locations in the game.',\n",
       "   'url': 'https://www.dexerto.com/palworld/all-syndicate-towers-locations-in-palworld-2492506/',\n",
       "   'urlToImage': 'https://editors.dexerto.com/wp-content/uploads/2024/01/23/palworld-syndicate-towers-locations.jpg',\n",
       "   'publishedAt': '2024-01-23T15:07:56Z',\n",
       "   'content': 'Palworld has plenty of challenges for you to face during your time in the Palpagos Island. However, the hardest of them all is beating the Bosses and their Pals waiting for you in the 5 Syndicate Tow… [+4188 chars]'},\n",
       "  {'source': {'id': None, 'name': '9to5Mac'},\n",
       "   'author': 'Zac Hall',\n",
       "   'title': 'Apple Vision Pro now available in augmented reality form, in-store stock details later today - 9to5Mac',\n",
       "   'description': 'Can’t wait to get your hands on Apple Vision Pro? You can now get closer than ever while you count...',\n",
       "   'url': 'https://9to5mac.com/2024/01/23/apple-vision-pro-now-available-in-augmented-reality-form-in-store-stock-details-later-today/',\n",
       "   'urlToImage': 'https://i0.wp.com/9to5mac.com/wp-content/uploads/sites/6/2024/01/Apple-Vision-Pro-AR.webp?resize=1200%2C628&quality=82&strip=all&ssl=1',\n",
       "   'publishedAt': '2024-01-23T15:04:00Z',\n",
       "   'content': 'Can’t wait to get your hands on Apple Vision Pro? You can now get closer than ever while you count the days ’till launch with Apple’s new AR hardware preview. Apple is also saying more about launch d… [+1184 chars]'},\n",
       "  {'source': {'id': None, 'name': 'Phoronix'},\n",
       "   'author': None,\n",
       "   'title': 'Framework Laptop 16 Delivers Great Linux Support & Performance, Excellent Customizability Review - Phoronix',\n",
       "   'description': 'The review embargo has now expired on the Framework Laptop 16, the latest innovative and upgradeable laptop from this company that has made quite a name for itself with modular and user-upgradeable laptop designs for both AMD and Intel.',\n",
       "   'url': 'https://www.phoronix.com/review/framework-laptop-16',\n",
       "   'urlToImage': 'https://www.phoronix.net/image.php?id=framework-laptop-16&image=framework_16_1',\n",
       "   'publishedAt': '2024-01-23T15:00:00Z',\n",
       "   'content': 'Show Your Support: This site is primarily supported by advertisements. Ads are what have allowed this site to be maintained on a daily basis for the past 19+ years. We do our best to ensure only clea… [+3834 chars]'},\n",
       "  {'source': {'id': 'the-verge', 'name': 'The Verge'},\n",
       "   'author': 'Jon Porter',\n",
       "   'title': 'OnePlus prices latest flagship phone for the US alongside more affordable 12R - The Verge',\n",
       "   'description': 'OnePlus has announced pricing and a release date for the OnePlus 12 in the West. It’s also detailed the OnePlus 12R and OnePlus Buds 3, its new true wireless earbuds.',\n",
       "   'url': 'https://www.theverge.com/2024/1/23/24047757/oneplus-12-12r-buds-3-price-release-date-specs-features',\n",
       "   'urlToImage': 'https://cdn.vox-cdn.com/thumbor/Q8o26yzGLwH8xeDFJ0SHTVyBW5I=/0x0:1620x1080/1200x628/filters:focal(810x540:811x541)/cdn.vox-cdn.com/uploads/chorus_asset/file/25243409/OP12_green_solo_16x9__2_.jpg',\n",
       "   'publishedAt': '2024-01-23T15:00:00Z',\n",
       "   'content': 'OnePlus prices latest flagship phone for the US alongside more affordable 12R\\r\\nOnePlus prices latest flagship phone for the US alongside more affordable 12R\\r\\n / The OnePlus 12 and 12R will be joined … [+4771 chars]'},\n",
       "  {'source': {'id': None, 'name': 'MacRumors'},\n",
       "   'author': 'Hartley Charlton',\n",
       "   'title': 'Samsung Racing to Beat Apple to Non-Invasive Blood Glucose Monitoring Technology - MacRumors',\n",
       "   'description': 'Samsung is striving to beat Apple to launch non-invasive blood glucose monitoring technology, as well as continuous blood pressure tracking features,...',\n",
       "   'url': 'https://www.macrumors.com/2024/01/23/samsung-racing-to-beat-apple/',\n",
       "   'urlToImage': 'https://images.macrumors.com/t/5-e1GtkuC8DXTIkajY7IO5AoqbI=/1600x/article-new/2023/07/galaxy-watch6-models.jpg',\n",
       "   'publishedAt': '2024-01-23T14:34:31Z',\n",
       "   'content': 'Samsung is striving to beat Apple to launch non-invasive blood glucose monitoring technology, as well as continuous blood pressure tracking features, Bloomberg reports.\\r\\nThe efforts are part of the c… [+1938 chars]'},\n",
       "  {'source': {'id': 'ign', 'name': 'IGN'},\n",
       "   'author': 'Wesley Yin-Poole',\n",
       "   'title': 'Palworld Overtakes Counter-Strike to Become the Second Most-Played Game Ever on Steam - IGN',\n",
       "   'description': 'Palworld’s astonishing launch success has grown further: it’s now the second most-popular game ever on Steam.',\n",
       "   'url': 'https://www.ign.com/articles/palworld-overtakes-counter-strike-to-become-the-second-most-played-game-ever-on-steam',\n",
       "   'urlToImage': 'https://assets-prd.ignimgs.com/2024/01/09/palworldearlyaccessreleasedatetrailer-ign-blogroll-1704822459672.jpg?width=1280',\n",
       "   'publishedAt': '2024-01-23T14:16:38Z',\n",
       "   'content': 'Palworlds astonishing launch success has grown further: its now the second most-popular game ever on Steam.\\r\\nPalworld posted an incredible 1,853,216 concurrent players on Steam today, January 23, a f… [+1518 chars]'}]}"
      ]
     },
     "execution_count": 531,
     "metadata": {},
     "output_type": "execute_result"
    }
   ],
   "source": [
    "top_headlines"
   ]
  },
  {
   "cell_type": "markdown",
   "id": "365021f1",
   "metadata": {},
   "source": [
    "Once we have all the URLs, we will have to compare this text with the text that is provided to the model. This will help us create a recommendation system. We will score each new piece on a similarity test and give the highest one as a recommendation."
   ]
  },
  {
   "cell_type": "code",
   "execution_count": 532,
   "id": "5c204d55",
   "metadata": {},
   "outputs": [],
   "source": [
    "Searched_article_urls = [article['url'] for article in filtered_top_headlines['articles']]"
   ]
  },
  {
   "cell_type": "code",
   "execution_count": 533,
   "id": "d5c9e2ce",
   "metadata": {},
   "outputs": [
    {
     "data": {
      "text/plain": [
       "['https://www.washingtonpost.com/technology/2024/01/23/wired-headphones-vs-wireless/',\n",
       " 'https://www.ign.com/articles/the-last-of-us-part-2-best-deal-walmart-limited-time-2024-new',\n",
       " 'https://www.theverge.com/2024/1/23/24048233/microsoft-teams-webcam-audio-adjustment-feature-meetings',\n",
       " 'https://9to5google.com/2024/01/23/pixel-9-pro-leak-render/',\n",
       " 'https://www.engadget.com/apple-releases-ios-173-which-introduces-the-new-stolen-device-protection-tool-184654922.html',\n",
       " 'https://www.ign.com/articles/solid-snake-now-available-in-fortnite-with-v2810-update',\n",
       " 'https://jalopnik.com/sammy-hagar-s-laferrari-auction-is-on-hold-because-it-n-1851189331',\n",
       " 'https://www.engadget.com/nintendo-honors-princess-peach-with-a-pair-of-pastel-pink-joy-cons-174854757.html',\n",
       " 'https://techcrunch.com/2024/01/23/google-chrome-gains-ai-features-including-a-writing-helper-theme-creator-and-tab-organizer/',\n",
       " 'https://kotaku.com/avowed-rpg-obsidian-microsoft-companions-1851188715',\n",
       " 'https://www.forbes.com/sites/paultassi/2024/01/23/suicide-squad-kill-the-justice-league-reveals-playable-joker-no-not-that-joker-a-different-joker/',\n",
       " 'https://www.dexerto.com/palworld/all-syndicate-towers-locations-in-palworld-2492506/',\n",
       " 'https://9to5mac.com/2024/01/23/apple-vision-pro-now-available-in-augmented-reality-form-in-store-stock-details-later-today/',\n",
       " 'https://www.phoronix.com/review/framework-laptop-16',\n",
       " 'https://www.theverge.com/2024/1/23/24047757/oneplus-12-12r-buds-3-price-release-date-specs-features',\n",
       " 'https://www.macrumors.com/2024/01/23/samsung-racing-to-beat-apple/',\n",
       " 'https://www.ign.com/articles/palworld-overtakes-counter-strike-to-become-the-second-most-played-game-ever-on-steam']"
      ]
     },
     "execution_count": 533,
     "metadata": {},
     "output_type": "execute_result"
    }
   ],
   "source": [
    "Searched_article_urls"
   ]
  },
  {
   "cell_type": "markdown",
   "id": "f6d641df",
   "metadata": {},
   "source": [
    "Getting the text from the news articles"
   ]
  },
  {
   "cell_type": "code",
   "execution_count": 534,
   "id": "71a342bc",
   "metadata": {
    "scrolled": true
   },
   "outputs": [],
   "source": [
    "import nltk\n"
   ]
  },
  {
   "cell_type": "code",
   "execution_count": 535,
   "id": "2fab9c6c",
   "metadata": {
    "scrolled": true
   },
   "outputs": [
    {
     "name": "stdout",
     "output_type": "stream",
     "text": [
      "Requirement already satisfied: newspaper3k in c:\\users\\js774\\anaconda3\\lib\\site-packages (0.2.8)\n",
      "Requirement already satisfied: beautifulsoup4>=4.4.1 in c:\\users\\js774\\anaconda3\\lib\\site-packages (from newspaper3k) (4.12.2)\n",
      "Requirement already satisfied: Pillow>=3.3.0 in c:\\users\\js774\\anaconda3\\lib\\site-packages (from newspaper3k) (10.0.1)\n",
      "Requirement already satisfied: PyYAML>=3.11 in c:\\users\\js774\\anaconda3\\lib\\site-packages (from newspaper3k) (6.0)\n",
      "Requirement already satisfied: cssselect>=0.9.2 in c:\\users\\js774\\anaconda3\\lib\\site-packages (from newspaper3k) (1.1.0)\n",
      "Requirement already satisfied: lxml>=3.6.0 in c:\\users\\js774\\anaconda3\\lib\\site-packages (from newspaper3k) (4.9.3)\n",
      "Requirement already satisfied: nltk>=3.2.1 in c:\\users\\js774\\anaconda3\\lib\\site-packages (from newspaper3k) (3.8.1)\n",
      "Requirement already satisfied: requests>=2.10.0 in c:\\users\\js774\\anaconda3\\lib\\site-packages (from newspaper3k) (2.31.0)\n",
      "Requirement already satisfied: feedparser>=5.2.1 in c:\\users\\js774\\anaconda3\\lib\\site-packages (from newspaper3k) (6.0.11)\n",
      "Requirement already satisfied: tldextract>=2.0.1 in c:\\users\\js774\\anaconda3\\lib\\site-packages (from newspaper3k) (3.2.0)\n",
      "Requirement already satisfied: feedfinder2>=0.0.4 in c:\\users\\js774\\anaconda3\\lib\\site-packages (from newspaper3k) (0.0.4)\n",
      "Requirement already satisfied: jieba3k>=0.35.1 in c:\\users\\js774\\anaconda3\\lib\\site-packages (from newspaper3k) (0.35.1)\n",
      "Requirement already satisfied: python-dateutil>=2.5.3 in c:\\users\\js774\\anaconda3\\lib\\site-packages (from newspaper3k) (2.8.2)\n",
      "Requirement already satisfied: tinysegmenter==0.3 in c:\\users\\js774\\anaconda3\\lib\\site-packages (from newspaper3k) (0.3)\n",
      "Requirement already satisfied: soupsieve>1.2 in c:\\users\\js774\\anaconda3\\lib\\site-packages (from beautifulsoup4>=4.4.1->newspaper3k) (2.4)\n",
      "Requirement already satisfied: six in c:\\users\\js774\\anaconda3\\lib\\site-packages (from feedfinder2>=0.0.4->newspaper3k) (1.16.0)\n",
      "Requirement already satisfied: sgmllib3k in c:\\users\\js774\\anaconda3\\lib\\site-packages (from feedparser>=5.2.1->newspaper3k) (1.0.0)\n",
      "Requirement already satisfied: click in c:\\users\\js774\\anaconda3\\lib\\site-packages (from nltk>=3.2.1->newspaper3k) (8.0.4)\n",
      "Requirement already satisfied: joblib in c:\\users\\js774\\anaconda3\\lib\\site-packages (from nltk>=3.2.1->newspaper3k) (1.2.0)\n",
      "Requirement already satisfied: regex>=2021.8.3 in c:\\users\\js774\\anaconda3\\lib\\site-packages (from nltk>=3.2.1->newspaper3k) (2022.7.9)\n",
      "Requirement already satisfied: tqdm in c:\\users\\js774\\anaconda3\\lib\\site-packages (from nltk>=3.2.1->newspaper3k) (4.65.0)\n",
      "Requirement already satisfied: charset-normalizer<4,>=2 in c:\\users\\js774\\anaconda3\\lib\\site-packages (from requests>=2.10.0->newspaper3k) (2.0.4)\n",
      "Requirement already satisfied: idna<4,>=2.5 in c:\\users\\js774\\anaconda3\\lib\\site-packages (from requests>=2.10.0->newspaper3k) (3.4)\n",
      "Requirement already satisfied: urllib3<3,>=1.21.1 in c:\\users\\js774\\anaconda3\\lib\\site-packages (from requests>=2.10.0->newspaper3k) (1.26.16)\n",
      "Requirement already satisfied: certifi>=2017.4.17 in c:\\users\\js774\\anaconda3\\lib\\site-packages (from requests>=2.10.0->newspaper3k) (2023.11.17)\n",
      "Requirement already satisfied: requests-file>=1.4 in c:\\users\\js774\\anaconda3\\lib\\site-packages (from tldextract>=2.0.1->newspaper3k) (1.5.1)\n",
      "Requirement already satisfied: filelock>=3.0.8 in c:\\users\\js774\\anaconda3\\lib\\site-packages (from tldextract>=2.0.1->newspaper3k) (3.9.0)\n",
      "Requirement already satisfied: colorama in c:\\users\\js774\\anaconda3\\lib\\site-packages (from click->nltk>=3.2.1->newspaper3k) (0.4.6)\n",
      "Note: you may need to restart the kernel to use updated packages.\n"
     ]
    }
   ],
   "source": [
    "pip install newspaper3k"
   ]
  },
  {
   "cell_type": "code",
   "execution_count": 536,
   "id": "cee873a3",
   "metadata": {},
   "outputs": [],
   "source": [
    "from newspaper import Article, ArticleException"
   ]
  },
  {
   "cell_type": "code",
   "execution_count": 537,
   "id": "50abd872",
   "metadata": {},
   "outputs": [
    {
     "name": "stderr",
     "output_type": "stream",
     "text": [
      "[nltk_data] Downloading package punkt to\n",
      "[nltk_data]     C:\\Users\\js774\\AppData\\Roaming\\nltk_data...\n",
      "[nltk_data]   Package punkt is already up-to-date!\n"
     ]
    },
    {
     "data": {
      "text/plain": [
       "True"
      ]
     },
     "execution_count": 537,
     "metadata": {},
     "output_type": "execute_result"
    }
   ],
   "source": [
    "nltk.download('punkt')"
   ]
  },
  {
   "cell_type": "code",
   "execution_count": 538,
   "id": "f9bcc849",
   "metadata": {
    "scrolled": true
   },
   "outputs": [],
   "source": [
    "def scrape_articles(article_urls):\n",
    "    articles = []\n",
    "    failed_articles = []\n",
    "\n",
    "    for url in article_urls:\n",
    "        try:\n",
    "            article = Article(url)\n",
    "            article.download()\n",
    "            article.parse()\n",
    "            article.nlp()\n",
    "            articles.append(article)\n",
    "        except ArticleException as e:\n",
    "            print(f\"Error processing article at {url}: {e}\")\n",
    "            failed_articles.append(url)\n",
    "\n",
    "    return articles, failed_articles"
   ]
  },
  {
   "cell_type": "code",
   "execution_count": 539,
   "id": "d7b431ee",
   "metadata": {},
   "outputs": [
    {
     "name": "stdout",
     "output_type": "stream",
     "text": [
      "Error processing article at https://www.forbes.com/sites/paultassi/2024/01/23/suicide-squad-kill-the-justice-league-reveals-playable-joker-no-not-that-joker-a-different-joker/: Article `download()` failed with 403 Client Error: Max restarts limit reached for url: https://www.forbes.com/sites/paultassi/2024/01/23/suicide-squad-kill-the-justice-league-reveals-playable-joker-no-not-that-joker-a-different-joker/ on URL https://www.forbes.com/sites/paultassi/2024/01/23/suicide-squad-kill-the-justice-league-reveals-playable-joker-no-not-that-joker-a-different-joker/\n"
     ]
    }
   ],
   "source": [
    "searched_articles_objs, failed_searched_articles = scrape_articles(Searched_article_urls)"
   ]
  },
  {
   "cell_type": "code",
   "execution_count": 540,
   "id": "8ee48961",
   "metadata": {
    "scrolled": false
   },
   "outputs": [
    {
     "data": {
      "text/plain": [
       "\"Listen 6 min Share Comment on this story Comment Add to your saved stories Save\\n\\nThis article is a preview of The Tech Friend newsletter. Sign up here to get it in your inbox every Tuesday and Friday. Hey, you, with your AirPods. My unsolicited but absolutely correct opinion is that wireless headphones like yours are inferior to the ones you plug in. Tech is not your friend. We are. Sign up for The Tech Friend newsletter. ArrowRight The free market says I’m wrong. Battery-powered wireless headphones outsell wired models by two to one in the United States.\\n\\nI get it. Wires are annoying. But plug-in headphones have so much going for them. Let me count the ways:\\n\\nHeadphones that you stick into a jack or charging port of your phone, computer and other devices typically cost less than comparable wireless models.\\n\\nUnlike wireless headphones, plug-in models don’t have batteries that are destined to die . And they don’t leave you stranded if you forget to charge them.\\n\\nYou don’t have to puzzle over why the Bluetooth won’t flipping connect. You won’t lose half of a pair and become the sad person wearing a solo earbud for eternity.\\n\\nMy mission is to make wired headphones great again. It starts with pushing us plug-in headphone fans out of the closet. And I’m asking electronics manufacturers to make more great wired options. You deserve real choices.\\n\\nApple’s recent embrace of the phone-charging technology called USB-C could help my wish come true. More on that in a minute.\\n\\nAdvertisement\\n\\nMy love for wired headphones shows our yearning for what’s great about older technology. Consider that one of the buzziest technology gadgets is a $139 phone case that gives your iPhone a Blackberry-style keyboard and that some teens (and adults) love flip phones.\\n\\n‘Simple and satisfying’\\n\\nWhen I hopped on a video call with Jason Luthman, director of product management for the headphone company Skullcandy, I noticed immediately that he was using plug-in headphones. (They were the Skullcandy Set headphones.)\\n\\nLuthman works for a headphone company, so he uses many models. But he always has a pair of wired headphones with him. He's often on hours of back-to-back video calls, and wireless headphones can't last that long without a recharge.\\n\\n“There’s still a simple and satisfying use for wired,” Luthman said.\\n\\nAdvertisement\\n\\nSkip to end of carousel Shira Ovide (Patrick Dias for The Washington Post) Tech Friend writer Shira Ovide gives you advice and context to make technology work for you. Sign up for the free Tech Friend newsletter End of carousel\\n\\nWhile Skullcandy’s wired headphone sales are declining, Luthman said the company still sells a “few million” wired earphones each year.\\n\\nMost of those are $10 ear buds that people grab at big box stores like Walmart or at airport stores. Skullcandy’s basic wireless headphones have a starting price that’s about double or triple the cost of those wired ear buds.\\n\\nHe said wired headphones also remain the choice for many parents buying them for kids, persnickety audiophiles and video game die-hards who can’t stomach the short lag for wirelessly beamed audio.\\n\\nAnd Luthman said that Skullcandy pays attention to Gen Z adoration for throwback technology, including wired headphones. An Instagram account, Wired It Girls, features cool celebrities wearing plug-in headphones.\\n\\n(Keep reading below for recommended wired headphone models and some of their downsides.)\\n\\nHow wireless headphones won\\n\\nI had assumed this was Apple’s fault.\\n\\nAdvertisement\\n\\nWhen the company ditched the headphone jack in iPhones beginning in 2016, other smartphone manufacturers followed. No jack makes it less convenient to use standard plug-in headphones with your phone. (You need an adapter, a.k.a. a “dongle.” Apple will sell you one for $9.)\\n\\nBut by the time of Apple’s jack murder, wireless headphones had already overtaken plug-in headphones in dollar value of sales, said Ben Arnold, consumer electronics analyst for industry research firm Circana.\\n\\nShare this article Share\\n\\nAnd last year, Circana says Americans bought 39 million pairs of wired headphones, compared with 81 million wireless headphones.\\n\\nOur personal preference for no wires isn’t the full story. Companies also prefer to sell you wireless.\\n\\nManufacturers typically make a hefty profit on wireless headphones, Arnold said. And companies like Apple and Samsung now link their wireless headphone designs tightly to their smartphones — encouraging you to stick with their family of products.\\n\\nAdvertisement\\n\\nI had also believed that wired headphones sound better, including for audio and video calls because the microphone is closer to your mouth than it is with wireless headphones.\\n\\nVille Ukonaho with technology analysis firm TechInsights said the sound of music can be richer over wired headphones compared with wireless. But for picking up your voice, high-quality wireless headphones are on par with wired models, Ukonaho said.\\n\\nCould a wired renaissance be upon us?\\n\\nMy favorite variety of wired headphones plug into the USB-C charging port of my Android phone. But a lot of companies don’t sell this type. (Skullcandy does. So does Apple.)\\n\\nI haven’t found USB-C headphones that I love, so I’m using a years-old pair of Apple’s white wired headphones with a dongle to plug into my phone’s charging port. Dongles make me sad.\\n\\nAdvertisement\\n\\nMy heart raced with joy when Luthman said he believes more companies might start making USB-C wired headphones.\\n\\nThat’s because for the first time, USB-C is now the standard on every new iPhone model. Most Android phones already have it. That makes for a big potential market for companies that sell USB-C headphones.\\n\\nI admit, I haven’t presented hard evidence that wired headphones are superior. This might be mostly my resentment at feeling forced to use wireless headphones.\\n\\nI’ll just ask: If you love wireless headphones but also have a backup pair that plug in, doesn’t that mean wireless headphones aren’t as convenient as you think?\\n\\nOne tiny win\\n\\nConvinced that wired headphones are awesome? Here are some pairs recommended by Consumer Reports or Wirecutter. (You may need a subscription to read details of these reviews.)\\n\\nAdvertisement\\n\\nThe Washington Post doesn’t make money if you buy these.\\n\\nThese pairs all have a conventional headphone jack, which means you’ll need an adapter to plug it into your smartphone’s Lightning or USB-C charging port.\\n\\nThat’s not fun. But remember that wireless headphones may not work, or work well, with every device either. You might have trouble pairing AirPods with a Windows PC, for example, or some audio features might not work.\\n\\nIf you have your eye on a high-end pair of wired (or wireless) headphones, it’s worth checking for previously owned models at a trusted shop like Back Market, which vets the reliability of used electronics.\\n\\nHeadphones experts suggest you avoid buying cheap wired ear buds available in places like drugstores or gas stations. They’re often poorly made and don’t last.\\n\\nIf you have plug-in headphones that you want to ditch, please don’t throw them in the trash. Headphones have materials that are an environmental hazard in a landfill.\\n\\nLeo Raudys, CEO of the electronics recycling organization Call2Recycle, suggested taking unwanted headphones to a Best Buy or Staples store for responsible recycling.\\n\\n(Please don’t throw wireless headphones in the trash, either! The batteries are an environmental and fire risk. Call2Recycle lists drop-off locations for products with rechargeable batteries.)\""
      ]
     },
     "execution_count": 540,
     "metadata": {},
     "output_type": "execute_result"
    }
   ],
   "source": [
    "searched_articles_objs[0].text"
   ]
  },
  {
   "cell_type": "markdown",
   "id": "c343af51",
   "metadata": {},
   "source": [
    "Need to remove stop words when comparing the text. Need to remove \\n"
   ]
  },
  {
   "cell_type": "code",
   "execution_count": 541,
   "id": "58ee9317",
   "metadata": {
    "scrolled": true
   },
   "outputs": [
    {
     "data": {
      "text/plain": [
       "datetime.datetime(2024, 1, 23, 0, 0)"
      ]
     },
     "execution_count": 541,
     "metadata": {},
     "output_type": "execute_result"
    }
   ],
   "source": [
    "#searched_articles_objs[0].publish_date"
   ]
  },
  {
   "cell_type": "code",
   "execution_count": 542,
   "id": "a7911982",
   "metadata": {},
   "outputs": [
    {
     "name": "stderr",
     "output_type": "stream",
     "text": [
      "[nltk_data] Downloading package stopwords to\n",
      "[nltk_data]     C:\\Users\\js774\\AppData\\Roaming\\nltk_data...\n",
      "[nltk_data]   Package stopwords is already up-to-date!\n"
     ]
    },
    {
     "data": {
      "text/plain": [
       "True"
      ]
     },
     "execution_count": 542,
     "metadata": {},
     "output_type": "execute_result"
    }
   ],
   "source": [
    "import nltk\n",
    "nltk.download('stopwords')\n"
   ]
  },
  {
   "cell_type": "code",
   "execution_count": 543,
   "id": "4404c77b",
   "metadata": {},
   "outputs": [
    {
     "name": "stderr",
     "output_type": "stream",
     "text": [
      "[nltk_data] Downloading package wordnet to\n",
      "[nltk_data]     C:\\Users\\js774\\AppData\\Roaming\\nltk_data...\n",
      "[nltk_data]   Package wordnet is already up-to-date!\n"
     ]
    },
    {
     "data": {
      "text/plain": [
       "True"
      ]
     },
     "execution_count": 543,
     "metadata": {},
     "output_type": "execute_result"
    }
   ],
   "source": [
    "import nltk\n",
    "nltk.download('wordnet')\n"
   ]
  },
  {
   "cell_type": "code",
   "execution_count": 544,
   "id": "158c573e",
   "metadata": {},
   "outputs": [],
   "source": [
    "import re\n",
    "from nltk.tokenize import word_tokenize\n",
    "from nltk.corpus import stopwords\n",
    "from nltk.stem import WordNetLemmatizer\n",
    "\n",
    "def preprocess_text(text):\n",
    "    # Lowercasing\n",
    "    text = text.lower()\n",
    "    \n",
    "    # Removing HTML tags, special characters, and newline characters\n",
    "    text = re.sub(r'<.*?>', '', text)\n",
    "    text = re.sub(r'[^a-zA-Z\\s]', '', text)\n",
    "    text = text.replace('\\n', ' ')\n",
    "    \n",
    "    # Tokenization\n",
    "    tokens = word_tokenize(text)\n",
    "    \n",
    "    # Removing stop words\n",
    "    stop_words = set(stopwords.words('english'))\n",
    "    tokens = [word for word in tokens if word not in stop_words]\n",
    "    \n",
    "    # Lemmatization\n",
    "    lemmatizer = WordNetLemmatizer()\n",
    "    tokens = [lemmatizer.lemmatize(word) for word in tokens]\n",
    "    \n",
    "    return ' '.join(tokens)"
   ]
  },
  {
   "cell_type": "code",
   "execution_count": 545,
   "id": "a962241d",
   "metadata": {},
   "outputs": [],
   "source": [
    "preprocessed_searched_articles_text = []\n",
    "\n",
    "for article in searched_articles_objs:\n",
    "    preprocessed_article = preprocess_text(article.text)\n",
    "    preprocessed_searched_articles_text.append(preprocessed_article)\n"
   ]
  },
  {
   "cell_type": "markdown",
   "id": "0648dacb",
   "metadata": {},
   "source": [
    "After filtering based on topic, time, website, we only have this many articles we will compare similarity to:"
   ]
  },
  {
   "cell_type": "code",
   "execution_count": 546,
   "id": "01e82cad",
   "metadata": {
    "scrolled": false
   },
   "outputs": [
    {
     "data": {
      "text/plain": [
       "16"
      ]
     },
     "execution_count": 546,
     "metadata": {},
     "output_type": "execute_result"
    }
   ],
   "source": [
    "len(preprocessed_searched_articles_text)"
   ]
  },
  {
   "cell_type": "markdown",
   "id": "679f89d6",
   "metadata": {},
   "source": [
    "Example text after preprocessing for checking similarity:"
   ]
  },
  {
   "cell_type": "code",
   "execution_count": 547,
   "id": "4e1787ef",
   "metadata": {
    "scrolled": true
   },
   "outputs": [
    {
     "data": {
      "text/plain": [
       "'listen min share comment story comment add saved story save article preview tech friend newsletter sign get inbox every tuesday friday hey airpods unsolicited absolutely correct opinion wireless headphone like inferior one plug tech friend sign tech friend newsletter arrowright free market say im wrong batterypowered wireless headphone outsell wired model two one united state get wire annoying plugin headphone much going let count way headphone stick jack charging port phone computer device typically cost le comparable wireless model unlike wireless headphone plugin model dont battery destined die dont leave stranded forget charge dont puzzle bluetooth wont flipping connect wont lose half pair become sad person wearing solo earbud eternity mission make wired headphone great start pushing u plugin headphone fan closet im asking electronics manufacturer make great wired option deserve real choice apple recent embrace phonecharging technology called usbc could help wish come true minute advertisement love wired headphone show yearning whats great older technology consider one buzziest technology gadget phone case give iphone blackberrystyle keyboard teen adult love flip phone simple satisfying hopped video call jason luthman director product management headphone company skullcandy noticed immediately using plugin headphone skullcandy set headphone luthman work headphone company us many model always pair wired headphone he often hour backtoback video call wireless headphone cant last long without recharge there still simple satisfying use wired luthman said advertisement skip end carousel shira ovide patrick dia washington post tech friend writer shira ovide give advice context make technology work sign free tech friend newsletter end carousel skullcandys wired headphone sale declining luthman said company still sell million wired earphone year ear bud people grab big box store like walmart airport store skullcandys basic wireless headphone starting price thats double triple cost wired ear bud said wired headphone also remain choice many parent buying kid persnickety audiophiles video game diehard cant stomach short lag wirelessly beamed audio luthman said skullcandy pay attention gen z adoration throwback technology including wired headphone instagram account wired girl feature cool celebrity wearing plugin headphone keep reading recommended wired headphone model downside wireless headphone assumed apple fault advertisement company ditched headphone jack iphones beginning smartphone manufacturer followed jack make le convenient use standard plugin headphone phone need adapter aka dongle apple sell one time apple jack murder wireless headphone already overtaken plugin headphone dollar value sale said ben arnold consumer electronics analyst industry research firm circana share article share last year circana say american bought million pair wired headphone compared million wireless headphone personal preference wire isnt full story company also prefer sell wireless manufacturer typically make hefty profit wireless headphone arnold said company like apple samsung link wireless headphone design tightly smartphones encouraging stick family product advertisement also believed wired headphone sound better including audio video call microphone closer mouth wireless headphone ville ukonaho technology analysis firm techinsights said sound music richer wired headphone compared wireless picking voice highquality wireless headphone par wired model ukonaho said could wired renaissance upon u favorite variety wired headphone plug usbc charging port android phone lot company dont sell type skullcandy apple havent found usbc headphone love im using yearsold pair apple white wired headphone dongle plug phone charging port dongle make sad advertisement heart raced joy luthman said belief company might start making usbc wired headphone thats first time usbc standard every new iphone model android phone already make big potential market company sell usbc headphone admit havent presented hard evidence wired headphone superior might mostly resentment feeling forced use wireless headphone ill ask love wireless headphone also backup pair plug doesnt mean wireless headphone arent convenient think one tiny win convinced wired headphone awesome pair recommended consumer report wirecutter may need subscription read detail review advertisement washington post doesnt make money buy pair conventional headphone jack mean youll need adapter plug smartphones lightning usbc charging port thats fun remember wireless headphone may work work well every device either might trouble pairing airpods window pc example audio feature might work eye highend pair wired wireless headphone worth checking previously owned model trusted shop like back market vet reliability used electronics headphone expert suggest avoid buying cheap wired ear bud available place like drugstore gas station theyre often poorly made dont last plugin headphone want ditch please dont throw trash headphone material environmental hazard landfill leo raudys ceo electronics recycling organization callrecycle suggested taking unwanted headphone best buy staple store responsible recycling please dont throw wireless headphone trash either battery environmental fire risk callrecycle list dropoff location product rechargeable battery'"
      ]
     },
     "execution_count": 547,
     "metadata": {},
     "output_type": "execute_result"
    }
   ],
   "source": [
    "preprocessed_searched_articles_text[0]"
   ]
  },
  {
   "cell_type": "markdown",
   "id": "88fd261b",
   "metadata": {},
   "source": [
    "We need to make the corpus articles preprocessed to compare for similarities."
   ]
  },
  {
   "cell_type": "code",
   "execution_count": 548,
   "id": "342be503",
   "metadata": {},
   "outputs": [],
   "source": [
    "import pandas as pd\n",
    "\n",
    "# Load the CSV file\n",
    "df = pd.read_excel('Corpus.xlsx')\n",
    "#df = pd.read_csv('C:/Users/js774/News Recommendation Agent/Corpus.csv')"
   ]
  },
  {
   "cell_type": "code",
   "execution_count": 549,
   "id": "4dc5ce18",
   "metadata": {
    "scrolled": true
   },
   "outputs": [
    {
     "data": {
      "text/plain": [
       "Index(['News Link', 'Date of Article', 'Date Selected',\n",
       "       'Why do you recommend it?'],\n",
       "      dtype='object')"
      ]
     },
     "execution_count": 549,
     "metadata": {},
     "output_type": "execute_result"
    }
   ],
   "source": [
    "df.columns"
   ]
  },
  {
   "cell_type": "code",
   "execution_count": 550,
   "id": "02e2ab76",
   "metadata": {},
   "outputs": [],
   "source": [
    "CorpusURLs = df['News Link'].tolist()"
   ]
  },
  {
   "cell_type": "code",
   "execution_count": 551,
   "id": "b269ebe9",
   "metadata": {},
   "outputs": [
    {
     "data": {
      "text/plain": [
       "['https://techcrunch.com/2024/01/07/what-is-google-gemini-ai/',\n",
       " 'https://nvidianews.nvidia.com/news/generative-ai-rtx-pcs-and-workstations',\n",
       " 'https://www.nytimes.com/2024/01/08/technology/ai-robots-chatbots-2024.html',\n",
       " 'https://www.cnbc.com/2024/01/08/openai-responds-to-new-york-times-lawsuit.html',\n",
       " 'https://www.artificialintelligence-news.com/2024/01/08/mcafee-unveils-ai-powered-deepfake-audio-detection/',\n",
       " 'https://www.axios.com/2024/01/10/walmart-app-ai-ces',\n",
       " 'https://news.sap.com/2024/01/new-ai-driven-retail-capabilities-enhance-customer-experience/',\n",
       " 'https://www.usatoday.com/story/tech/news/2024/01/09/walmart-ces-ai-tech/72161108007/',\n",
       " 'https://www.newscientist.com/article/2412199-ai-can-tell-if-prints-from-two-different-fingers-belong-to-same-person/',\n",
       " 'https://www.socialmediatoday.com/news/microsoft-launches-new-generative-ai-ad-creation-tool/704388/',\n",
       " 'https://www.cnn.com/2024/01/16/tech/bill-gates-ai-gps-interview/index.html',\n",
       " 'https://techcrunch.com/2024/01/16/openai-announces-team-to-build-crowdsourced-governance-ideas-into-its-models/',\n",
       " 'https://www.artificialintelligence-news.com/2024/01/11/openai-launches-gpt-store-custom-ai-assistants/',\n",
       " 'https://techcrunch.com/2024/01/17/samsungs-latest-galaxy-phones-offer-live-translation-over-phone-calls-texts/',\n",
       " 'https://www.thedailybeast.com/the-ai-powered-rabbit-r1-wants-to-kill-your-iphone-for-good',\n",
       " 'https://www.tweaktown.com/news/95657/rabbit-sells-more-than-10-000-units-of-its-extremely-interesting-pocket-ai-companion/index.html',\n",
       " 'https://9to5mac.com/2024/01/23/apple-vision-pro-now-available-in-augmented-reality-form-in-store-stock-details-later-today/']"
      ]
     },
     "execution_count": 551,
     "metadata": {},
     "output_type": "execute_result"
    }
   ],
   "source": [
    "CorpusURLs"
   ]
  },
  {
   "cell_type": "code",
   "execution_count": 552,
   "id": "eacba0f7",
   "metadata": {},
   "outputs": [
    {
     "name": "stdout",
     "output_type": "stream",
     "text": [
      "Error processing article at https://www.axios.com/2024/01/10/walmart-app-ai-ces: Article `download()` failed with 403 Client Error: Forbidden for url: https://www.axios.com/2024/01/10/walmart-app-ai-ces on URL https://www.axios.com/2024/01/10/walmart-app-ai-ces\n"
     ]
    }
   ],
   "source": [
    "corpus_objs, failed_corpus_articles = scrape_articles(CorpusURLs)"
   ]
  },
  {
   "cell_type": "code",
   "execution_count": 553,
   "id": "31c8eb7c",
   "metadata": {},
   "outputs": [
    {
     "data": {
      "text/plain": [
       "['https://www.forbes.com/sites/paultassi/2024/01/23/suicide-squad-kill-the-justice-league-reveals-playable-joker-no-not-that-joker-a-different-joker/']"
      ]
     },
     "execution_count": 553,
     "metadata": {},
     "output_type": "execute_result"
    }
   ],
   "source": [
    "failed_searched_articles"
   ]
  },
  {
   "cell_type": "code",
   "execution_count": 554,
   "id": "a9274cc7",
   "metadata": {},
   "outputs": [
    {
     "data": {
      "text/plain": [
       "['https://www.axios.com/2024/01/10/walmart-app-ai-ces']"
      ]
     },
     "execution_count": 554,
     "metadata": {},
     "output_type": "execute_result"
    }
   ],
   "source": [
    "failed_corpus_articles"
   ]
  },
  {
   "cell_type": "code",
   "execution_count": 555,
   "id": "152bfc98",
   "metadata": {},
   "outputs": [],
   "source": [
    "#corpus_objs[0].summary"
   ]
  },
  {
   "cell_type": "code",
   "execution_count": 556,
   "id": "e8d8fba9",
   "metadata": {},
   "outputs": [],
   "source": [
    "preprocessed_corpus_articles_text = []\n",
    "#Need to do the tokenization, Lemmatization, etc. For Corpus articles\n",
    "for article in corpus_objs:\n",
    "    preprocessed_article = preprocess_text(article.text)\n",
    "    preprocessed_corpus_articles_text.append(preprocessed_article)"
   ]
  },
  {
   "cell_type": "markdown",
   "id": "f6037d1d",
   "metadata": {},
   "source": [
    "Model for recommendation, utilizes TF-IDF(Term Frequency-Inverse Document Frequency)"
   ]
  },
  {
   "cell_type": "markdown",
   "id": "6301507c",
   "metadata": {},
   "source": [
    "### How the recommendation system works:\n",
    "<p>Each article (document) is represented as a TF-IDF vector.<br>\n",
    "The cosine similarity is calculated between the TF-IDF vectors of the searched articles and the weighted corpus articles.<br>\n",
    "The result is a similarity matrix, and the rankings are determined based on the average similarity scores.</p>"
   ]
  },
  {
   "cell_type": "code",
   "execution_count": 557,
   "id": "45520568",
   "metadata": {},
   "outputs": [],
   "source": [
    "#You can change how important the corpus articles are compared to the searched articles for making recommendations"
   ]
  },
  {
   "cell_type": "code",
   "execution_count": 558,
   "id": "027175b8",
   "metadata": {},
   "outputs": [],
   "source": [
    "from sklearn.feature_extraction.text import TfidfVectorizer\n",
    "from sklearn.metrics.pairwise import cosine_similarity\n",
    "\n",
    "def recommend_articles(corpus_articles, searched_articles):\n",
    "    # Adjust the weight for corpus articles\n",
    "    weighted_corpus_articles = corpus_articles * 3  # Increase the weight by repeating corpus articles\n",
    "\n",
    "    # Combine weighted corpus articles and searched articles\n",
    "    all_articles = weighted_corpus_articles + searched_articles\n",
    "\n",
    "    # Use TfidfVectorizer to convert text into vectors\n",
    "    vectorizer = TfidfVectorizer(stop_words='english')\n",
    "    tfidf_matrix = vectorizer.fit_transform(all_articles)\n",
    "\n",
    "    # Calculate cosine similarity\n",
    "    similarities = cosine_similarity(tfidf_matrix)\n",
    "\n",
    "    # Extract similarities for searched articles (excluding weighted corpus articles)\n",
    "    searched_similarities = similarities[len(weighted_corpus_articles):, :len(weighted_corpus_articles)]\n",
    "\n",
    "    # Rank searched articles by similarity to the weighted corpus articles\n",
    "    ranked_articles = sorted(enumerate(searched_similarities.mean(axis=1)), key=lambda x: x[1], reverse=True)\n",
    "\n",
    "    # Print and store the rankings in a list\n",
    "    rankings = []\n",
    "    for idx, similarity in ranked_articles:\n",
    "        print(f\"Similarity to corpus: {similarity:.4f}\")\n",
    "        # Print the index of preprocessed_searched_articles_text\n",
    "        print(\"Index in preprocessed_searched_articles_text:\", idx)\n",
    "        print(\"Searched Article:\", searched_articles[idx])\n",
    "        print(\"=\" * 50)\n",
    "        # Append the ranking to the list\n",
    "        rankings.append((idx, similarity))\n",
    "\n",
    "    return rankings"
   ]
  },
  {
   "cell_type": "markdown",
   "id": "9139a982",
   "metadata": {},
   "source": [
    "Running the model now to recommend"
   ]
  },
  {
   "cell_type": "code",
   "execution_count": 559,
   "id": "4f8fc33f",
   "metadata": {
    "scrolled": true
   },
   "outputs": [
    {
     "name": "stdout",
     "output_type": "stream",
     "text": [
      "Similarity to corpus: 0.0939\n",
      "Index in preprocessed_searched_articles_text: 11\n",
      "Searched Article: cant wait get hand apple vision pro get closer ever count day till launch apple ar hardware preview apple also saying launch day inventory apple retail store u want fake friend pretend got apple vision pro early preview spatial computer hardware augmented reality inside apple store app iphone ipad look ar button vision pro section enter imaginary land owning vision pro actually launch even snap photo angle shadow included warned much like vampire ar avp reflection want test drive real deal apple hosting launch weekend demo apple store goal convincing buy actually launch day hardware store though ship date base model gb month plus launch instore stock however may promising apple saying check back pm pt today information thats new one youre planning walking store walking vision pro set alarm noon pacific eastern today appears like preorder round instore stock maybe new one apple update message check back later today pm pt replaced check back later sure update apple show instore pick availability starting february\n",
      "==================================================\n",
      "Similarity to corpus: 0.0612\n",
      "Index in preprocessed_searched_articles_text: 8\n",
      "Searched Article: google chrome web browser getting infusion ai technology latest release company announced today soon adding trio new aipowered feature chrome mac window including way smartly organize tab customize theme get help writing thing web like forum post online review latter similar feature already available google experimental ai search experience sge search generative experience allows user get help drafting thing like email different tone like formal casual different length builtin writing helper chrome google suggests user could write business review craft friendly rsvp party make formal inquiry vacation rental among thing including writing post public space like online forum site stillexperimental feature accessible next month chrome release rightclicking text box field web choosing help write get started youll first write word google ai jump help addition writing assistant ai also used help organize tab group personalize browser chrome tab group feature allows user keep many tab open manage organizing group however curating manual process company explains new tab organizer chrome automatically suggest create group based tab already open feature available rightclicking tab selecting organize similar tab chrome also suggest name emojis tab group creates make easier find feature intended assist user online shopping researching trip planning task tend leave lot open tab final addition mirror new generative ai wallpaper experience recently arrived android pixel device google use texttoimage diffusion model allow user generate custom theme chrome browser feature allows generate theme subject mood visual style color selecting new create ai option opening customize chrome side panel clicking change theme chrome offered variety colorful simple theme choose alongside artist feature allow user expand beyond builtin choice create theme better match current vibe though busy theme could distracting feature least allows user dont android phone testdrive google generative ai personalization even end returning basic theme daytoday use drafting feature wont arrive next month chrome release google say feature like tab organizer ai theme creator roll next day u mac window current chrome release access feature youll sign chrome select setting threedot menu navigate experimental ai page feature experimental wont ship enterprise educational customer time company note feature join aipowered machine learning ml tool already available chrome like ability caption audio video protect user malicious site via android safe browsing feature chrome silence permission prompt summarize web page via sge browsing feature google say chrome updated ai ml feature coming year including integration new ai model gemini used help make web browsing easier\n",
      "==================================================\n",
      "Similarity to corpus: 0.0431\n",
      "Index in preprocessed_searched_articles_text: 2\n",
      "Searched Article: microsoft finally giving team user easier way control audio video feature meeting software giant started testing easily accessible tool switching camera audio source speaker output much new feature part update available microsoft team public preview today current version team dig multiple layer setting switch camera youre using adjust background move builtin speaker wired one new feature allow team user access downward arrow next camera mic button meeting toolbar includes simplified audio video option digging setting quickly change webcam image microsoft want switch laptop builtin camera wired webcam quickly new menu change microphone headset speaker youre using also option enabling noise suppression spatial audio virtual background setting usually found sidebar accessible digging setting menu\n",
      "==================================================\n",
      "Similarity to corpus: 0.0411\n",
      "Index in preprocessed_searched_articles_text: 14\n",
      "Searched Article: samsung striving beat apple launch noninvasive blood glucose monitoring technology well continuous blood pressure tracking feature bloomberg report effort part company wider push offer health capability embodied recent announcement galaxy ring tout activity sleep tracking health feature set arrive later new interview samsungs mobile digital health chief hon pak said continuous blood pressure glucose whole different ballgame think thats everyone trying get putting significant investment toward looking everything miniaturization various different technology platform type glucose monitoring anything pak declined comment time frame launching either feature specific samsung device belief noninvasive glucose monitoring technology could come market form within five year current blood glucose monitoring system usually requires pricking skin apple reportedly working unique noninvasive approach decade company believed made major progress technology increasing pressure rival provide competing feature samsung smartwatches already offer ability determine user blood pressure capability constant requires specific calibration separate blood pressure monitor apple purportedly planning add hypertension detection apple watch later year calibration requirement provide exact reading instead simply informing user may elevated blood pressure like apple samsung also reportedly exploring adding health sensor future version earbuds body temperature heart rate monitoring since ear closer pathway heart wrist health information ear could combined data already collected wrist even greater accuracy\n",
      "==================================================\n",
      "Similarity to corpus: 0.0399\n",
      "Index in preprocessed_searched_articles_text: 4\n",
      "Searched Article: today big day apple system update company released io ipados alongside modest watchos macos sonoma update io update modest refresh dont go looking anything crazy however new feature called stolen device protection isnt used locate stolen iphone ipad rather keep thief accessing personal data feature first popped developer beta io actually pretty handy someone manages steal iphone ipad updated o lock system forcing face id touch id access work even passcode wont able put biometrics lock software automatically mandate onehour security delay changing passcode phone tablet recognized unfamiliar location stolen device protection wont stop thief thing make thing harder tool available iphones ipads update also brings collaborative playlist apple music airplay hotel support optimized crash detection new wallpaper celebrate black history month robust update world like month since io released turn stolen device protection like io release need iphone x iphone x max iphone xr version iphone iphone iphone iphone iphone also work iphone se second thirdgeneration model ipados whole bunch model eligible update including ipad mini fifthgeneration standard ipad sixthgeneration ipad air thirdgeneration ipad pro model check system setting see update available download youll find option turn stolen device protection setting menu face id passcode really simple scrolling tapping stolen device protection watching label turn setup required article contains affilate link click link make purchase may earn commission\n",
      "==================================================\n",
      "Similarity to corpus: 0.0397\n",
      "Index in preprocessed_searched_articles_text: 1\n",
      "Searched Article: here scenerio dont copy last u part fancy checking gotten new improvement remastered rerelease p dualsense support lost level new return roguelike mode problem new buyer still cost msrp quite price tag first attached last u part p release still hefty cost consider fear solutionfor least best bet jump upgrade path p version last u part digital physical get digital copy remaster need find relatively cheap copy last u part there plenty option online secondhand store youd prefer quick easy option walmart game back stock see limited time last u part ii p physical copy insert disc p apply upgrade tlou part ii remastered see walmart buy physical copy p version must insert p disc every single time want play remastered p minor headache spending v reasonable saving new series looking play remaster alldigital owner afraid youre luck time caveat retailer like walmart best buy starting become little adverse carry physical copy game therefore pricepoint there high likelyhood game sell want physical copy last u part wed suggest picking asap loading play last u part masterpiece evolves gameplay cinematic storytelling rich world design original nearly every way jonathon dornbush wrote review original p release latest playstation beyond column simon cardy also wrote two playstations big hitter recently dipped toe roguelike water albeit different philosophy driving last u part remastereds return plant foot firmly camp gameplay king offering showcase tense stealth combat narrative dressing god war ragnarok valhalla hand much storyfocused experience one gained lot satisfaction result thats say naughty dog attempt mean bad ive enjoyed good hour playing return there one clear winner big beard massive axe loading play gaming tech deal consider right include amazon best buy offering big saving hisense uk k qled miniled smart tv alongside big lenovo legion go handheld pc even latest apple airpods pro model robert anderson deal expert commerce editor ign follow robertliam twitter\n",
      "==================================================\n",
      "Similarity to corpus: 0.0300\n",
      "Index in preprocessed_searched_articles_text: 3\n",
      "Searched Article: first pixel pro leak render showing pretty stark design departure google phone today according onleaks mysmartprice pixel pro feature flat edge ever slightly curve display rear panel stark contrast curved rail pixel pro power button volume rocker remains right edge google look moved sim card tray bottom edge right usbc port there cutout left connector there nothing left edge top home mmwave antenna cutout meanwhile camera bar clearly inspired pixel fold floating pill thats connected left right edge like earlier phone three camera placed sidebyside covered oblong piece glass end result pillonpill design minimal bezel lefthand side two circular cutout next camera system prominent circle inbetween main wide ultrawide lens one flash look temperature sensor google retaining last year pro model onleaks x mysmartprice piece say pixel pro inch display would notably smaller inch panel pro despite dimension relatively unchanged last year could screen size error pixel pro x x mm mm camera bump x x mm mm camera bump pixel pro x x mm body phone mm thinnerfrom render display look flat pro slight curvature perimeter flatter compared pro render pixel pro leak coming two month earlier design undoubtedly draw comparison iphone somewhat reminds essential phone updating\n",
      "==================================================\n",
      "Similarity to corpus: 0.0289\n",
      "Index in preprocessed_searched_articles_text: 9\n",
      "Searched Article: detail obsidian next firstperson rpg avowed revealed recent episode socalled official xbox podcast itsnot podcast bunch footage game saw microsofts january developer direct along good deal information itll actually play set eora world obsidian pillar eternity game avowed pronounced choicesbased rpg seems boil game emphasizes player whim channeled storyline opportunity pick allegiance within make look immediately different example genre like skyrim fallout far actionoriented approach combat xbox new footage well weve seen previously midway game set area called shatterscarp specifically entirely optional side quest game director carrie patel somewhat unfortunately describes absolutely missable first burst combat see character venture cave swim underwater reach another area movement look far like something firstperson shooter clunkier approach bethesdas rpgs advertisement already learned magic exist alongside brawn come combat allowing player switch sword shield dualwielding wand magical ability based around fairly traditional elemental system element arent restricted combat ability based around burning freezing used open area explore along setting fire barrier sound like there breath wildstyle ability freeze path across water advertisement pillar game isnt solo affair companion joining freeform combat well conversation world character two companion shownkai magicusing tank giatta dropping healsbut least couple found id surprised obsidian left four course advertisement developer also seem keen present forgiving game player dont want commit particular style play respeccing simple told phrase mix match used feverish abandon there clearly desire people brick character doesnt work presumably able adapt fly depending companion bringing mix read everything saw xboxs january developer direct vague plotlines revealed character envoy representing aedyr empire mission discover spiritual plague called dreamscourge shatterscarp point game local faction ramping tension ongoing conflict time investigating dreamscourge also learn pesky archmage built frozen labyrinth one corner land seems heading way area shown demo discoverable term theyre using optional course familiar humblebrag see preview set location developer nonchalant player might even find playonly turn flagged foot neon sign eventually play game know advertisement watching game look pleasingly vivid colorful rather mired usual muted brown gray fantasy genre there also something keep making think arkanes wonderful dark messiah might magic one rather crucial aspect combat look intangible obviously marked alpha footage game due miss release date fall blood splatter look like theyre projected afterward there sense impact whatsoever would desperately like see something like dark messiah incredibly oofinducing kick slam rather strangely vrish ethereality\n",
      "==================================================\n",
      "Similarity to corpus: 0.0274\n",
      "Index in preprocessed_searched_articles_text: 0\n",
      "Searched Article: listen min share comment story comment add saved story save article preview tech friend newsletter sign get inbox every tuesday friday hey airpods unsolicited absolutely correct opinion wireless headphone like inferior one plug tech friend sign tech friend newsletter arrowright free market say im wrong batterypowered wireless headphone outsell wired model two one united state get wire annoying plugin headphone much going let count way headphone stick jack charging port phone computer device typically cost le comparable wireless model unlike wireless headphone plugin model dont battery destined die dont leave stranded forget charge dont puzzle bluetooth wont flipping connect wont lose half pair become sad person wearing solo earbud eternity mission make wired headphone great start pushing u plugin headphone fan closet im asking electronics manufacturer make great wired option deserve real choice apple recent embrace phonecharging technology called usbc could help wish come true minute advertisement love wired headphone show yearning whats great older technology consider one buzziest technology gadget phone case give iphone blackberrystyle keyboard teen adult love flip phone simple satisfying hopped video call jason luthman director product management headphone company skullcandy noticed immediately using plugin headphone skullcandy set headphone luthman work headphone company us many model always pair wired headphone he often hour backtoback video call wireless headphone cant last long without recharge there still simple satisfying use wired luthman said advertisement skip end carousel shira ovide patrick dia washington post tech friend writer shira ovide give advice context make technology work sign free tech friend newsletter end carousel skullcandys wired headphone sale declining luthman said company still sell million wired earphone year ear bud people grab big box store like walmart airport store skullcandys basic wireless headphone starting price thats double triple cost wired ear bud said wired headphone also remain choice many parent buying kid persnickety audiophiles video game diehard cant stomach short lag wirelessly beamed audio luthman said skullcandy pay attention gen z adoration throwback technology including wired headphone instagram account wired girl feature cool celebrity wearing plugin headphone keep reading recommended wired headphone model downside wireless headphone assumed apple fault advertisement company ditched headphone jack iphones beginning smartphone manufacturer followed jack make le convenient use standard plugin headphone phone need adapter aka dongle apple sell one time apple jack murder wireless headphone already overtaken plugin headphone dollar value sale said ben arnold consumer electronics analyst industry research firm circana share article share last year circana say american bought million pair wired headphone compared million wireless headphone personal preference wire isnt full story company also prefer sell wireless manufacturer typically make hefty profit wireless headphone arnold said company like apple samsung link wireless headphone design tightly smartphones encouraging stick family product advertisement also believed wired headphone sound better including audio video call microphone closer mouth wireless headphone ville ukonaho technology analysis firm techinsights said sound music richer wired headphone compared wireless picking voice highquality wireless headphone par wired model ukonaho said could wired renaissance upon u favorite variety wired headphone plug usbc charging port android phone lot company dont sell type skullcandy apple havent found usbc headphone love im using yearsold pair apple white wired headphone dongle plug phone charging port dongle make sad advertisement heart raced joy luthman said belief company might start making usbc wired headphone thats first time usbc standard every new iphone model android phone already make big potential market company sell usbc headphone admit havent presented hard evidence wired headphone superior might mostly resentment feeling forced use wireless headphone ill ask love wireless headphone also backup pair plug doesnt mean wireless headphone arent convenient think one tiny win convinced wired headphone awesome pair recommended consumer report wirecutter may need subscription read detail review advertisement washington post doesnt make money buy pair conventional headphone jack mean youll need adapter plug smartphones lightning usbc charging port thats fun remember wireless headphone may work work well every device either might trouble pairing airpods window pc example audio feature might work eye highend pair wired wireless headphone worth checking previously owned model trusted shop like back market vet reliability used electronics headphone expert suggest avoid buying cheap wired ear bud available place like drugstore gas station theyre often poorly made dont last plugin headphone want ditch please dont throw trash headphone material environmental hazard landfill leo raudys ceo electronics recycling organization callrecycle suggested taking unwanted headphone best buy staple store responsible recycling please dont throw wireless headphone trash either battery environmental fire risk callrecycle list dropoff location product rechargeable battery\n",
      "==================================================\n",
      "Similarity to corpus: 0.0256\n",
      "Index in preprocessed_searched_articles_text: 12\n",
      "Searched Article: show support site primarily supported advertisement ad allowed site maintained daily basis past year best ensure clean relevant ad shown nasty ad detected work remove asap would like view site without ad still supporting work please consider adfree phoronix premium review embargo expired framework laptop latest innovative upgradeable laptop company made quite name modular userupgradeable laptop design amd intel new framework laptop offer even customizability around keyboardtouchpad option including using radeon rx graphic module besides immense customizability option upgrade available framework laptop new model employ amd ryzen h processor even greater performance amd ryzen u found latest framework model since first testing framework laptop last november reviewing framework amd ryzen u ive big fan framework laptop first announced year ago framework laptop sounded great theory ultimately questionable well would work practice whether theyd able firmly deliver stand test time well theyve nailing execution continuing prove new iteration making upgradeable product exciting driving greater interest succeeding launch reading much framework laptop prior arrival blown away additional customizability available inch laptop thanks larger form factor motherboard io port upgradeable option prior framework laptop remain available framework also continues make design file opensource leverage open aspect upgradeable laptop design really offer compelling solution plus framework nice linux support prior model initially linux hiccup causing bios needing update amd graphic support framework good shape running modern linux distribution uptodate mesa linux kernel amdgpu firmware good go framework laptop bit heavier fully kitted bit heavy one complains new unit plus maintaining slimness overall laptop wanting use gigabit ethernet port stick side laptop weight discrete graphic module breaking sleak design using certain io port upgrade really critique ive unit testing thus far pricing framework laptop start usd diy model usd prebuilt version microsoft window preinstalled expensive framework going higherend ryzen h processor plus additional customizability option thanks larger design base pricing framework laptop ryzen h ryzen h available ghz v ghz maximum boost frequency additional ddr memory option gb gb replaceable dimms two nvme ssds optional graphic module enjoying radeon rx discrete graphic rather integrated rx graphic various input module option rgb macropad numpad various expansion card another great feature worth pointing framework laptop display hz refresh rate also support vrr freesync display nice framework laptop contrast ratio nit brightness\n",
      "==================================================\n",
      "Similarity to corpus: 0.0233\n",
      "Index in preprocessed_searched_articles_text: 10\n",
      "Searched Article: palworld plenty challenge face time palpagos island however hardest beating boss pal waiting syndicate tower scattered across map here locate one game pocket pair game plenty enemy defeat capturing raising pal thug gunner pal devouts even comrade youll hardly day go without fight article continues ad youre done facing little baddie looking bigger challenge always search main boss game waiting tower article continues ad represent hostile faction work little bit gym leader pokemon though fight quite different way harder player comparing encounter elden ring combat content tower rayne syndicate pocket pair inc adventure palpagos island first syndicate tower youll probably come around one guarded zoe grizzbolt closest first spawn point article continues ad even though supposed easiest still quite challenge grizzbolt already level electric type require bring along groundtype pal gumoss rushoar article continues ad tower free pal alliance pocket pair inc next tower face according level progression would free pal alliance one located frostbound mountain north previously faced zoe grizzbolt tower guarded lily lyleen grasstype pal youll need come firefocused team effectively counter boss typing pal use include foxparks incineram even rooby subscribe newsletter latest update esports gaming email sign article continues ad tower pidf pocket pair inc next stop tower pidf palpagos island defense force faction mercenary youll come across whole map fact time reach tower probable youve already faced agent officer article continues ad bos tower marcus pal faleris another firetype monster fight use full watertype team easily deal huge amount damage best pal take battle jormuntide relaxaurus celaray article continues ad tower brother eternal pyre pocket pair inc mount obsidian one dangerous zone map syndicate tower even though location firetype encounter bos axel orserk dual dragonelectrictype pal dual typing higher level set hard battle arriving mount obsidian need reach least level bring topnotch equipment icegroundtype team pal like foxcicle dumud especially ice reptyre perfect article continues ad article continues ad tower pal genetic research unit pocket pair inc final bos battle palworld take place astral mountain east forgotten mineshaft faction guarding point pal genetic research unit bulky team lot gun youll face victor shadowbeak darktype pal weak dragon bring along powerful dragontype monster beware must level wan na come fight victorious best pal include elphidran quivern jetragon article continues ad palworld fusion guide best fusion breeding combo palworld paldeck palworld multiplayer coop mode get farm highquality pal oil palworld get farm leather palworld best way level fast palworld get farm honey palworld palworld zoe grizzbolt guide palworld complete weapon list palworld mod support pal evolve palworld shinies palworld\n",
      "==================================================\n",
      "Similarity to corpus: 0.0232\n",
      "Index in preprocessed_searched_articles_text: 15\n",
      "Searched Article: palworlds astonishing launch success grown second mostpopular game ever steam palworld posted incredible concurrent player steam today january figure see pocketpairs controversial pokmon gun crafting survival game overtake valve counterstrike according steamdb palworld second pubg whose remarkable steam concurrents peak set game glory day amid battle royale boom seems unlikely palworld hit height although increasing sale success suggests bigger concurrents peak still come let forget palworld launched early access form pocketpair said remain year loading play meanwhile pocketpair said palworld sold six million copy four day launched january across xbox console pc via steam window also launched dayanddate game pas thank playing game even though weekday tweet pocketpair said team working hard ensure enjoy game even comfortably palworld already one biggest game launch ever also one controversial pocketpair said staff received death threat amid pokmon ripoff claim nintendo moved quickly remove eyecatching pokmon mod palworlds enormous launch seen server struggle check igns palworld early access review progress find thought wesley uk news editor ign find twitter wyp reach wesley wesleyyinpooleigncom confidentially wypprotonme\n",
      "==================================================\n",
      "Similarity to corpus: 0.0210\n",
      "Index in preprocessed_searched_articles_text: 13\n",
      "Searched Article: little month half chinese launch oneplus officially announced pricing release date latest flagship global market oneplus ship u february th starting affordable model gb ram gb storage one trio device oneplus launching today two lowerend oneplus r oneplus bud true wireless earbuds check colleague allison johnson full review oneplus right tldr phone flagship spec good job nailing basic offer great battery life big screen impressively high claimed peak brightness nit good camera there also wireless charging support missing oneplus better ip rating dust water resistance related oneplus review otherwise oneplus many spec youd expect flagship smartphone built around snapdragon gen oneplus proprietary trinity engine software large vapor chamberbased cooling system thats designed extract maximum amount performance chip inside youll find mah battery charged w north america w europe itll also w wireless charging company proprietary airvooc standard though regular qi charger max w there sign qi oneplus inch display p resolution display refresh rate hz around back phone there triplecamera setup consisting main megapixel sensor megapixel ultrawide megapixel telephoto x optical zoom available color include black green either way get four year android update five year security patch unfortunately there sign gb ram tb storage variant oneplus company announced chinese market u eu ram top gb storage top gb oneplus r blue image oneplus alongside flagship come stepdown oneplus r first time one rseries device released outside china india phone slightly lower spec oneplus across board reflected affordable starting price still powered flagship qualcomm processor although last year snapdragon gen rather year gen still got ip rating dust water resistance ip rather ip still got w wired fast charging w europe there w wireless charging get three year android update four year patch get mah battery r however slightly higher capacity oneplus naturally screen camera also lowerspecced lower resolution inch p hz display rear camera configuration includes twomegapixel macro camera instead x telephoto alongside megapixel main eightmegapixel ultrawide oneplus r come blue gray bud blue black image oneplus finally oneplus also releasing thirdgeneration pair true wireless earbuds oneplus bud earbuds come equipped active noise cancellation oneplus say theyll also analyze shape wearer ear canal use tweak anc battery life rated hour earbuds anc hour turned rising hour respectively combined case oneplus bud feature include support lhdc codec higherquality bluetooth streaming phone support ip rating sweat resistance multipoint support connecting multiple device simultaneously earbuds go open sale february th u theyll cost europe theyll cost go sale february th meanwhile oneplus ship february th u europe entrylevel gb gb model retail gb ram gb storage cost finally oneplus r start gb ram gb storage model isnt releasing europe rising gb ram gb storage itll ship february th u europe\n",
      "==================================================\n",
      "Similarity to corpus: 0.0202\n",
      "Index in preprocessed_searched_articles_text: 7\n",
      "Searched Article: engadget testing reviewing consumer tech since story may include affiliate link buy something link may earn commission read evaluate product nintendo honoring princess peach set appropriately colored joycons tuesday company posted x twitter set pastel pink joycon controller launch alongside princess peach showtime march pair sold limited time nintendo store select retailer although company hasnt specified much theyll cost standard joycon pair going rate likely safe bet nintendo already sell pastel pink left joycon paired pastel yellow one part batch launched last summer technical wholly original part peach longoverdue tribute appears half controller engadget reached nintendo ask shade pastel pink peach set identical one pink yellow pairing appears promotional image well update article hear back pastel pink left joycon second right launched last summer look awful lot like peach tribute set nintendo course themed joycons merely undercard main event princess peach showtime pseudoplatformer announced september nintendo direct perpetual damsel distress taking heroic center stage story saving theater hamlet kind barbenheimer kind villainous grape sour bunch peach wield ribbon whiplike weapon lent theater guardian floating star named stella may play similar role cappy super mario odyssey prince florian super mario wonder peach also draw theatrical quickchange ability transform ninja swashbuckler detective patisserie cowgirl kungfu artist giving frequent mcguffin marios story fun powerups counter mustachioed beau princess peach showtime available preorder nintendo amazon pair pastel pink joycons arrive march watch game latest trailer\n",
      "==================================================\n",
      "Similarity to corpus: 0.0151\n",
      "Index in preprocessed_searched_articles_text: 6\n",
      "Searched Article: sammy hagar extensive car collection jaguar xke multiple ferraris safe say hagar car enthusiast one hardest thing enthusiast though part way one car recently hagar announced selling one prized ferraris laferrari highest bidder dead battery stopped sale dead track auction run bit problem usa today pointed right sale vehicle placed hold laferrari dire need new battery advertisement advertisement announcement barrettjackson hagar announced november would listing laferrari sale auction supposed go live late january reason getting rid car kind suck he simply getting older advertisement eyesight reflex arent need drive car decided someone else need enjoy told usa today advertisement full vehicle inspection barrettjackson recently found laferraris battery done reached end eightyear life span course imagine battery replacement cost million hybrid supercar arent cheap apparently many owner get taken advantage replacement cost one owner laferrari forum mentioned cost replace battery still ridiculous amount hagars laferrari auction hold year laferrari slated cross block october time hagars th birthday hagar mentioned hell hate see go like true enthusiast seems appreciate fact car made driven could park car living room sit popcorn watch movie id car car meant driven amazing car ive ever owned time\n",
      "==================================================\n",
      "Similarity to corpus: 0.0150\n",
      "Index in preprocessed_searched_articles_text: 5\n",
      "Searched Article: solid snake metal gear franchise available fortnite fortnites v update introduces iconic character epic widely popular freetoplay battle royale game player battle pas subscription rewarded skin complete snake quest snake equipped wellknown gear including iconic cardboard box allowing evade enemy image credit epic game complete page quest youll unlock solid snake old snake style quest remain available march et image credit epic game prior snake playable fortnite many quick criticize design specifically player criticizing character lack plump rear end yet design one catch eye peter griffin another licensed character made way fortnite recently raised eyebrow due muscular body fan family guy used however family guy creator seth mcfarlane told u epic apparently didnt budget create actual body meanwhile epic detailed additional change coming fortnite v update return anvil rocket launcher weapon gameplay balance tweak patch note balance change weve closely monitoring battle royale gameplay data community feedback agreed balance adjustment needed made please see list balance change included v update enforcer ar received slight increase bullet speed damage headshot damage reduction bullet drop ar lagging needed boost compete weapon option received slight increase bullet speed damage headshot damage reduction bullet drop ar lagging needed boost compete weapon option reaper sniper rifle received slight reduction bullet speed increase bullet drop many reaper snipe easy land little counterplay received slight reduction bullet speed increase bullet drop many reaper snipe easy land little counterplay hyper smg received increase overall accuracy via tightened bullet spread like enforcer ar smg lagging needed boost compete weapon option received increase overall accuracy via tightened bullet spread like enforcer ar smg lagging needed boost compete weapon option ballistic shield received slight decrease damage required stagger holder loadout option often powerful compared others especially zero build received slight decrease damage required stagger holder loadout option often powerful compared others especially zero build storm circle speed sprint speed energy regeneration reverted match speed chapter reverted speed better fit current ideal pace fortnite br taylor reporter ign follow twitter taynixster\n",
      "==================================================\n"
     ]
    }
   ],
   "source": [
    "rankings=recommend_articles(preprocessed_corpus_articles_text, preprocessed_searched_articles_text)"
   ]
  },
  {
   "cell_type": "code",
   "execution_count": 560,
   "id": "3daf6680",
   "metadata": {
    "scrolled": true
   },
   "outputs": [
    {
     "data": {
      "text/plain": [
       "'https://www.theverge.com/2024/1/23/24048233/microsoft-teams-webcam-audio-adjustment-feature-meetings'"
      ]
     },
     "execution_count": 560,
     "metadata": {},
     "output_type": "execute_result"
    }
   ],
   "source": [
    "#searched_articles_objs[2].url"
   ]
  },
  {
   "cell_type": "code",
   "execution_count": 561,
   "id": "d34decdf",
   "metadata": {
    "scrolled": true
   },
   "outputs": [
    {
     "data": {
      "text/plain": [
       "[(11, 0.09386382329865994),\n",
       " (8, 0.061199282793174804),\n",
       " (2, 0.04305780215431674),\n",
       " (14, 0.04111414552765906),\n",
       " (4, 0.03993277032840726),\n",
       " (1, 0.03968511754242419),\n",
       " (3, 0.03002585496666906),\n",
       " (9, 0.028876930603157974),\n",
       " (0, 0.027380957101040063),\n",
       " (12, 0.025552529669378852),\n",
       " (10, 0.02329384609258575),\n",
       " (15, 0.023242521003671895),\n",
       " (13, 0.021049141235183796),\n",
       " (7, 0.02015411991446688),\n",
       " (6, 0.015072331362040899),\n",
       " (5, 0.015036550690498274)]"
      ]
     },
     "execution_count": 561,
     "metadata": {},
     "output_type": "execute_result"
    }
   ],
   "source": [
    "rankings"
   ]
  },
  {
   "cell_type": "code",
   "execution_count": 562,
   "id": "cd85fbb1",
   "metadata": {},
   "outputs": [
    {
     "data": {
      "text/plain": [
       "'https://www.engadget.com/nintendo-honors-princess-peach-with-a-pair-of-pastel-pink-joy-cons-174854757.html'"
      ]
     },
     "execution_count": 562,
     "metadata": {},
     "output_type": "execute_result"
    }
   ],
   "source": [
    "#searched_articles_objs[7].url"
   ]
  },
  {
   "cell_type": "code",
   "execution_count": 563,
   "id": "b4228c35",
   "metadata": {},
   "outputs": [
    {
     "name": "stdout",
     "output_type": "stream",
     "text": [
      "Top Ranked URLs with Summaries:\n",
      "1. https://9to5mac.com/2024/01/23/apple-vision-pro-now-available-in-augmented-reality-form-in-store-stock-details-later-today/\n",
      "   Summary: Can’t wait to get your hands on Apple Vision Pro?\n",
      "You can get closer than ever while you count the days ’till launch with Apple’s AR hardware preview.\n",
      "Want to fake out your friends and pretend you got Apple Vision Pro early?\n",
      "Just look for the AR button on the Vision Pro section to enter the imaginary land of owning Vision Pro before it actually launches.\n",
      "Apple is hosting launch weekend demos in Apple Stores with the goal of convincing you to buy.\n",
      "\n",
      "2. https://techcrunch.com/2024/01/23/google-chrome-gains-ai-features-including-a-writing-helper-theme-creator-and-tab-organizer/\n",
      "   Summary: Google’s Chrome web browser is getting an infusion of AI technology in the latest release.\n",
      "In addition to the writing assistant, AI can also be used to help organize tab groups and personalize your browser.\n",
      "Chrome’s Tab Groups feature allows users who keep many tabs open to manage them by organizing them into groups.\n",
      "With the new Tab Organizer, Chrome will automatically suggest and create groups based on the tabs you already have open.\n",
      "To access these features, you’ll sign into Chrome, select “Settings” from the three-dot menu, and then navigate to the “Experimental AI” page.\n",
      "\n",
      "3. https://www.theverge.com/2024/1/23/24048233/microsoft-teams-webcam-audio-adjustment-feature-meetings\n",
      "   Summary: Microsoft is finally giving Teams users an easier way to control audio and video features during meetings.\n",
      "The software giant has started testing easily accessible tools for switching cameras, audio sources, speaker output, and much more.\n",
      "These new features are part of an update available for Microsoft Teams Public Preview today.\n",
      "The new features allow Teams users to access a downward arrow next to the camera or mic button on the meeting toolbar, which includes simplified audio and video options.\n",
      "Image: MicrosoftIf you want to switch from your laptop’s built-in camera to a wired webcam, you can do this quickly from this new menu or change which microphone or headset / speaker you’re using.\n",
      "\n",
      "4. https://www.macrumors.com/2024/01/23/samsung-racing-to-beat-apple/\n",
      "   Summary: Samsung is striving to beat Apple to launch non-invasive blood glucose monitoring technology, as well as continuous blood pressure tracking features, Bloomberg reports.\n",
      "[...] We are looking at everything from miniaturization to the various different technology platforms that can do some type of glucose monitoring or anything in between.\n",
      "Pak declined to comment on a time frame for launching either of the features in specific Samsung devices, but believes that non-invasive glucose monitoring technology could come to market in some form within five years.\n",
      "Current blood glucose monitoring systems usually requires pricking the skin, but Apple has reportedly been working on a unique non-invasive approach for over a decade.\n",
      "While Samsung smartwatches already offer the ability to determine a user's blood pressure, the capability is not constant and requires specific calibration with a separate blood pressure monitor.\n",
      "\n",
      "5. https://www.engadget.com/apple-releases-ios-173-which-introduces-the-new-stolen-device-protection-tool-184654922.html\n",
      "   Summary: There is, however, a new feature called Stolen Device Protection.\n",
      "Stolen Device Protection won’t stop thieves from doing their thing, but it will make things harder for them.\n",
      "Like other iOS 17 releases, you need an iPhone Xs, iPhone Xs Max or iPhone XR from 2018, or any version of iPhone 11, iPhone 12, iPhone 13, iPhone 14 and iPhone 15.\n",
      "You'll find the option to turn on Stolen Device Protection in the Settings menu, under \"Face ID & Passcode.\"\n",
      "It's really just as simple as scrolling down and tapping \"Stolen Device Protection,\" and watching the \"Off\" label turn to \"On.\"\n",
      "\n",
      "...\n",
      "\n",
      "Bottom Ranked URLs with Summaries:\n",
      "15. https://jalopnik.com/sammy-hagar-s-laferrari-auction-is-on-hold-because-it-n-1851189331\n",
      "   Summary: From a Jaguar XKE to multiple Ferraris, it’s safe to say that Hagar is a car enthusiast.\n",
      "Recently, Hagar announced that he was selling one of his prized Ferraris, a LaFerrari, to the highest bidder.\n",
      "Right now, the sale of the vehicle has to be placed on hold because the LaFerrari is in dire need of a new battery.\n",
      "As for Hagar’s LaFerrari, the auction is on hold for most of the year.\n",
      "The LaFerrari is now slated to cross the block October 10-13 2024, just in time for Hagar’s 77th birthday.\n",
      "\n",
      "16. https://www.ign.com/articles/solid-snake-now-available-in-fortnite-with-v2810-update\n",
      "   Summary: Solid Snake from the Metal Gear franchise is now available in Fortnite.\n",
      "If you complete all the Page 2 Quests, you’ll unlock Solid Snake’s Old Snake style.\n",
      "Meanwhile, Epic detailed additional changes coming to Fortnite with the V28.10 update, such as the return of the Anvil Rocket Launcher weapon and some gameplay balance tweaks.\n",
      "has received a slight increase in bullet speed, damage, and headshot damage (and a reduction in bullet drop).\n",
      "Storm circle speed, sprint speed, and Energy regeneration have been reverted to match the same speed from Chapter 4.\n",
      "\n"
     ]
    }
   ],
   "source": [
    "# Check the total size of preprocessed_searched_articles_text\n",
    "total_size = len(preprocessed_searched_articles_text)\n",
    "\n",
    "# Extract URLs and summaries for the top and bottom ranked articles\n",
    "top_n = 5  # Change this value as needed\n",
    "bottom_n = 2  # Change this value as needed\n",
    "\n",
    "top_ranked_info = [(searched_articles_objs[idx].url, searched_articles_objs[idx].summary) for idx, _ in rankings[:top_n]]\n",
    "bottom_ranked_info = [(searched_articles_objs[idx].url, searched_articles_objs[idx].summary) for idx, _ in rankings[-bottom_n:]]\n",
    "\n",
    "# Print URLs with rankings and summaries\n",
    "if total_size <= 7:\n",
    "    # If total size is 7 or less, print all URLs with summaries in order\n",
    "    for idx, (url, summary) in enumerate(top_ranked_info):\n",
    "        print(f\"{idx + 1}. {url}\\n   Summary: {summary}\\n\")\n",
    "else:\n",
    "    # Print top-ranked URLs with summaries\n",
    "    print(\"Top Ranked URLs with Summaries:\")\n",
    "    for idx, (url, summary) in enumerate(top_ranked_info):\n",
    "        print(f\"{idx + 1}. {url}\\n   Summary: {summary}\\n\")\n",
    "\n",
    "    # Print ellipsis if there are more than 7 articles\n",
    "    if total_size > 11:\n",
    "        print(\"...\")\n",
    "\n",
    "    # Print bottom-ranked URLs with summaries\n",
    "    print(\"\\nBottom Ranked URLs with Summaries:\")\n",
    "    for idx, (url, summary) in enumerate(bottom_ranked_info):\n",
    "        print(f\"{total_size - bottom_n + idx + 1}. {url}\\n   Summary: {summary}\\n\")\n"
   ]
  },
  {
   "cell_type": "markdown",
   "id": "edcdf3a6",
   "metadata": {},
   "source": [
    "Tell it which article we like and make it add it to the excel sheet which will be used to train it for the future"
   ]
  },
  {
   "cell_type": "code",
   "execution_count": 564,
   "id": "d2760db2",
   "metadata": {},
   "outputs": [
    {
     "name": "stdout",
     "output_type": "stream",
     "text": [
      "Enter the article numbers to approve (comma-separated): \n",
      "No articles were approved. Corpus.xlsx remains unchanged.\n"
     ]
    }
   ],
   "source": [
    "# Prompt the user for approved article numbers\n",
    "approved_numbers_str = input(\"Enter the article numbers to approve (comma-separated): \")\n",
    "\n",
    "# Check if the user entered anything\n",
    "if approved_numbers_str.strip():\n",
    "    # Convert approved numbers to a list of integers\n",
    "    approved_numbers = [int(num.strip()) for num in approved_numbers_str.split()]\n",
    "\n",
    "    # Extract URLs for the approved articles\n",
    "    approved_urls = [searched_articles_objs[idx].url for idx, _ in rankings if idx + 1 in approved_numbers]\n",
    "\n",
    "    # Read the existing Corpus.xlsx file\n",
    "    corpus_df = pd.read_excel('Corpus.xlsx')\n",
    "\n",
    "    # Create a DataFrame with the approved URLs\n",
    "    approved_df = pd.DataFrame({'News Link': approved_urls})\n",
    "\n",
    "    # Concatenate the existing DataFrame with the approved DataFrame\n",
    "    corpus_df = pd.concat([corpus_df, approved_df], ignore_index=True)\n",
    "\n",
    "    # Save the updated DataFrame to Corpus.xlsx\n",
    "    corpus_df.to_excel('Corpus.xlsx', index=False)\n",
    "\n",
    "    print(\"Approved URLs have been added to Corpus.xlsx.\")\n",
    "else:\n",
    "    print(\"No articles were approved. Corpus.xlsx remains unchanged.\")"
   ]
  }
 ],
 "metadata": {
  "kernelspec": {
   "display_name": "Python 3 (ipykernel)",
   "language": "python",
   "name": "python3"
  },
  "language_info": {
   "codemirror_mode": {
    "name": "ipython",
    "version": 3
   },
   "file_extension": ".py",
   "mimetype": "text/x-python",
   "name": "python",
   "nbconvert_exporter": "python",
   "pygments_lexer": "ipython3",
   "version": "3.11.5"
  }
 },
 "nbformat": 4,
 "nbformat_minor": 5
}
